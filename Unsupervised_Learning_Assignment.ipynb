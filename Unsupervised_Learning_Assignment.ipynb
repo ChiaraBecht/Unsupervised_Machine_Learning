{
 "cells": [
  {
   "cell_type": "code",
   "execution_count": null,
   "id": "6e4f21d0",
   "metadata": {},
   "outputs": [],
   "source": [
    "import numpy as np\n",
    "import pandas as pd\n",
    "import seaborn as sns"
   ]
  },
  {
   "cell_type": "markdown",
   "id": "7e328c41",
   "metadata": {},
   "source": [
    "# MODELLING\n",
    "\n",
    "The gene expression data will be investigated hoping to find clusters, which are representative for the histology of cancertype. Further, we can investigate whether there are different patterns for male and females and whether the tumor size has an impact on which genes are expressed.\n",
    "\n",
    "## Data preparation\n",
    "Data was checked for skewness and then transformed to be normal shaped. Standardization was conducted as preparation step for dimensionality reduction.\n",
    "\n",
    "## Dimensionality reduction\n",
    "The following techniques were considered:\n",
    "- PCA\n",
    "- MDS\n",
    "- spectral embedding\n",
    "- spectral clustering\n",
    "- tSNE\n",
    "\n",
    "## Clustering\n",
    "Clustering techniques discussed:\n",
    "- k-means\n",
    "- Hierarchical agglomerative clustering\n",
    "- DBSCAN"
   ]
  },
  {
   "cell_type": "code",
   "execution_count": 1,
   "id": "1493ecbc",
   "metadata": {},
   "outputs": [],
   "source": [
    "import pandas as pd\n",
    "import numpy as np\n",
    "from sklearn.manifold import MDS\n",
    "import matplotlib.pyplot as plt"
   ]
  },
  {
   "cell_type": "markdown",
   "id": "8710ac7b",
   "metadata": {},
   "source": [
    "## Load concatenated dataset"
   ]
  },
  {
   "cell_type": "code",
   "execution_count": 3,
   "id": "eba4327d",
   "metadata": {},
   "outputs": [],
   "source": [
    "df = pd.read_csv('Clinical_Gene_Exp.csv')"
   ]
  },
  {
   "cell_type": "code",
   "execution_count": 4,
   "id": "087d16f4",
   "metadata": {},
   "outputs": [
    {
     "data": {
      "text/html": [
       "<div>\n",
       "<style scoped>\n",
       "    .dataframe tbody tr th:only-of-type {\n",
       "        vertical-align: middle;\n",
       "    }\n",
       "\n",
       "    .dataframe tbody tr th {\n",
       "        vertical-align: top;\n",
       "    }\n",
       "\n",
       "    .dataframe thead th {\n",
       "        text-align: right;\n",
       "    }\n",
       "</style>\n",
       "<table border=\"1\" class=\"dataframe\">\n",
       "  <thead>\n",
       "    <tr style=\"text-align: right;\">\n",
       "      <th></th>\n",
       "      <th>Unnamed: 0</th>\n",
       "      <th>characteristics.tag.histology</th>\n",
       "      <th>source.location</th>\n",
       "      <th>characteristics.tag.gender</th>\n",
       "      <th>characteristics.tag.tumor.size.maximumdiameter</th>\n",
       "      <th>('AFFX-BioB-3_at',)</th>\n",
       "      <th>('AFFX-BioB-5_at',)</th>\n",
       "      <th>('AFFX-BioB-M_at',)</th>\n",
       "      <th>('AFFX-BioC-3_at',)</th>\n",
       "      <th>('AFFX-BioC-5_at',)</th>\n",
       "      <th>...</th>\n",
       "      <th>('merck2-Z41436_at',)</th>\n",
       "      <th>('merck2-Z43503_at',)</th>\n",
       "      <th>('merck2-Z47244_x_at',)</th>\n",
       "      <th>('merck2-Z47250_x_at',)</th>\n",
       "      <th>('merck2-Z48501_s_at',)</th>\n",
       "      <th>('merck2-Z48633_s_at',)</th>\n",
       "      <th>('merck2-Z70222_a_at',)</th>\n",
       "      <th>('merck2-Z70608_x_at',)</th>\n",
       "      <th>('merck2-Z72499_a_at',)</th>\n",
       "      <th>('merck2-Z75331_a_at',)</th>\n",
       "    </tr>\n",
       "  </thead>\n",
       "  <tbody>\n",
       "    <tr>\n",
       "      <th>0</th>\n",
       "      <td>0</td>\n",
       "      <td>Squamous Cell Carcinoma, NOS</td>\n",
       "      <td>Left  Lower Lobe</td>\n",
       "      <td>0</td>\n",
       "      <td>4.0</td>\n",
       "      <td>7.376915</td>\n",
       "      <td>6.984530</td>\n",
       "      <td>7.330576</td>\n",
       "      <td>10.922741</td>\n",
       "      <td>11.032030</td>\n",
       "      <td>...</td>\n",
       "      <td>7.077955</td>\n",
       "      <td>4.350631</td>\n",
       "      <td>7.506299</td>\n",
       "      <td>9.774634</td>\n",
       "      <td>11.295187</td>\n",
       "      <td>10.286077</td>\n",
       "      <td>6.892053</td>\n",
       "      <td>1.777216</td>\n",
       "      <td>9.031084</td>\n",
       "      <td>7.284069</td>\n",
       "    </tr>\n",
       "    <tr>\n",
       "      <th>1</th>\n",
       "      <td>1</td>\n",
       "      <td>Adenocarcinoma, Papillary, NOS</td>\n",
       "      <td>Left  Lower Lobe</td>\n",
       "      <td>0</td>\n",
       "      <td>1.3</td>\n",
       "      <td>8.024915</td>\n",
       "      <td>7.427048</td>\n",
       "      <td>8.010530</td>\n",
       "      <td>11.390638</td>\n",
       "      <td>11.533338</td>\n",
       "      <td>...</td>\n",
       "      <td>7.552333</td>\n",
       "      <td>3.578359</td>\n",
       "      <td>5.516440</td>\n",
       "      <td>4.601167</td>\n",
       "      <td>11.443442</td>\n",
       "      <td>11.173715</td>\n",
       "      <td>5.513603</td>\n",
       "      <td>1.940099</td>\n",
       "      <td>9.527973</td>\n",
       "      <td>6.985508</td>\n",
       "    </tr>\n",
       "    <tr>\n",
       "      <th>2</th>\n",
       "      <td>2</td>\n",
       "      <td>Non-Small Cell</td>\n",
       "      <td>Left  Lower Lobe</td>\n",
       "      <td>0</td>\n",
       "      <td>11.0</td>\n",
       "      <td>7.522543</td>\n",
       "      <td>7.077207</td>\n",
       "      <td>7.334551</td>\n",
       "      <td>10.936703</td>\n",
       "      <td>11.018510</td>\n",
       "      <td>...</td>\n",
       "      <td>5.084856</td>\n",
       "      <td>2.937384</td>\n",
       "      <td>6.310065</td>\n",
       "      <td>6.315107</td>\n",
       "      <td>11.584115</td>\n",
       "      <td>10.586540</td>\n",
       "      <td>6.112918</td>\n",
       "      <td>1.753519</td>\n",
       "      <td>9.515653</td>\n",
       "      <td>6.556233</td>\n",
       "    </tr>\n",
       "    <tr>\n",
       "      <th>3</th>\n",
       "      <td>3</td>\n",
       "      <td>Papillary Type AND      Adenocarcinoma, Bronch...</td>\n",
       "      <td>Left  Lower Lobe</td>\n",
       "      <td>0</td>\n",
       "      <td>3.5</td>\n",
       "      <td>7.152864</td>\n",
       "      <td>6.849513</td>\n",
       "      <td>7.143286</td>\n",
       "      <td>10.791909</td>\n",
       "      <td>10.875259</td>\n",
       "      <td>...</td>\n",
       "      <td>7.136409</td>\n",
       "      <td>2.904756</td>\n",
       "      <td>5.954062</td>\n",
       "      <td>6.738276</td>\n",
       "      <td>11.240300</td>\n",
       "      <td>10.257621</td>\n",
       "      <td>6.276813</td>\n",
       "      <td>1.889742</td>\n",
       "      <td>9.383670</td>\n",
       "      <td>7.293852</td>\n",
       "    </tr>\n",
       "    <tr>\n",
       "      <th>4</th>\n",
       "      <td>4</td>\n",
       "      <td>Squamous Cell Carcinoma, NOS</td>\n",
       "      <td>Left  Lower Lobe</td>\n",
       "      <td>1</td>\n",
       "      <td>7.8</td>\n",
       "      <td>7.211031</td>\n",
       "      <td>6.753131</td>\n",
       "      <td>7.077163</td>\n",
       "      <td>10.701328</td>\n",
       "      <td>10.823792</td>\n",
       "      <td>...</td>\n",
       "      <td>7.667150</td>\n",
       "      <td>3.119091</td>\n",
       "      <td>7.257312</td>\n",
       "      <td>8.118139</td>\n",
       "      <td>10.998377</td>\n",
       "      <td>10.634072</td>\n",
       "      <td>7.041829</td>\n",
       "      <td>1.686633</td>\n",
       "      <td>9.464486</td>\n",
       "      <td>6.244336</td>\n",
       "    </tr>\n",
       "  </tbody>\n",
       "</table>\n",
       "<p>5 rows × 60612 columns</p>\n",
       "</div>"
      ],
      "text/plain": [
       "   Unnamed: 0                      characteristics.tag.histology  \\\n",
       "0           0                       Squamous Cell Carcinoma, NOS   \n",
       "1           1                     Adenocarcinoma, Papillary, NOS   \n",
       "2           2                                     Non-Small Cell   \n",
       "3           3  Papillary Type AND      Adenocarcinoma, Bronch...   \n",
       "4           4                       Squamous Cell Carcinoma, NOS   \n",
       "\n",
       "    source.location  characteristics.tag.gender  \\\n",
       "0  Left  Lower Lobe                           0   \n",
       "1  Left  Lower Lobe                           0   \n",
       "2  Left  Lower Lobe                           0   \n",
       "3  Left  Lower Lobe                           0   \n",
       "4  Left  Lower Lobe                           1   \n",
       "\n",
       "   characteristics.tag.tumor.size.maximumdiameter  ('AFFX-BioB-3_at',)  \\\n",
       "0                                             4.0             7.376915   \n",
       "1                                             1.3             8.024915   \n",
       "2                                            11.0             7.522543   \n",
       "3                                             3.5             7.152864   \n",
       "4                                             7.8             7.211031   \n",
       "\n",
       "   ('AFFX-BioB-5_at',)  ('AFFX-BioB-M_at',)  ('AFFX-BioC-3_at',)  \\\n",
       "0             6.984530             7.330576            10.922741   \n",
       "1             7.427048             8.010530            11.390638   \n",
       "2             7.077207             7.334551            10.936703   \n",
       "3             6.849513             7.143286            10.791909   \n",
       "4             6.753131             7.077163            10.701328   \n",
       "\n",
       "   ('AFFX-BioC-5_at',)  ...  ('merck2-Z41436_at',)  ('merck2-Z43503_at',)  \\\n",
       "0            11.032030  ...               7.077955               4.350631   \n",
       "1            11.533338  ...               7.552333               3.578359   \n",
       "2            11.018510  ...               5.084856               2.937384   \n",
       "3            10.875259  ...               7.136409               2.904756   \n",
       "4            10.823792  ...               7.667150               3.119091   \n",
       "\n",
       "   ('merck2-Z47244_x_at',)  ('merck2-Z47250_x_at',)  ('merck2-Z48501_s_at',)  \\\n",
       "0                 7.506299                 9.774634                11.295187   \n",
       "1                 5.516440                 4.601167                11.443442   \n",
       "2                 6.310065                 6.315107                11.584115   \n",
       "3                 5.954062                 6.738276                11.240300   \n",
       "4                 7.257312                 8.118139                10.998377   \n",
       "\n",
       "   ('merck2-Z48633_s_at',)  ('merck2-Z70222_a_at',)  ('merck2-Z70608_x_at',)  \\\n",
       "0                10.286077                 6.892053                 1.777216   \n",
       "1                11.173715                 5.513603                 1.940099   \n",
       "2                10.586540                 6.112918                 1.753519   \n",
       "3                10.257621                 6.276813                 1.889742   \n",
       "4                10.634072                 7.041829                 1.686633   \n",
       "\n",
       "   ('merck2-Z72499_a_at',)  ('merck2-Z75331_a_at',)  \n",
       "0                 9.031084                 7.284069  \n",
       "1                 9.527973                 6.985508  \n",
       "2                 9.515653                 6.556233  \n",
       "3                 9.383670                 7.293852  \n",
       "4                 9.464486                 6.244336  \n",
       "\n",
       "[5 rows x 60612 columns]"
      ]
     },
     "execution_count": 4,
     "metadata": {},
     "output_type": "execute_result"
    }
   ],
   "source": [
    "df.head()"
   ]
  },
  {
   "cell_type": "markdown",
   "id": "16115e84",
   "metadata": {},
   "source": [
    "## Prepare the data\n",
    "Extract the features, which shall be used for clustering from the ones, which can be used for colour coding."
   ]
  },
  {
   "cell_type": "code",
   "execution_count": 5,
   "id": "8546891d",
   "metadata": {},
   "outputs": [
    {
     "data": {
      "text/html": [
       "<div>\n",
       "<style scoped>\n",
       "    .dataframe tbody tr th:only-of-type {\n",
       "        vertical-align: middle;\n",
       "    }\n",
       "\n",
       "    .dataframe tbody tr th {\n",
       "        vertical-align: top;\n",
       "    }\n",
       "\n",
       "    .dataframe thead th {\n",
       "        text-align: right;\n",
       "    }\n",
       "</style>\n",
       "<table border=\"1\" class=\"dataframe\">\n",
       "  <thead>\n",
       "    <tr style=\"text-align: right;\">\n",
       "      <th></th>\n",
       "      <th>characteristics.tag.histology</th>\n",
       "      <th>source.location</th>\n",
       "      <th>characteristics.tag.gender</th>\n",
       "      <th>characteristics.tag.tumor.size.maximumdiameter</th>\n",
       "    </tr>\n",
       "  </thead>\n",
       "  <tbody>\n",
       "    <tr>\n",
       "      <th>0</th>\n",
       "      <td>Squamous Cell Carcinoma, NOS</td>\n",
       "      <td>Left  Lower Lobe</td>\n",
       "      <td>0</td>\n",
       "      <td>4.0</td>\n",
       "    </tr>\n",
       "    <tr>\n",
       "      <th>1</th>\n",
       "      <td>Adenocarcinoma, Papillary, NOS</td>\n",
       "      <td>Left  Lower Lobe</td>\n",
       "      <td>0</td>\n",
       "      <td>1.3</td>\n",
       "    </tr>\n",
       "    <tr>\n",
       "      <th>2</th>\n",
       "      <td>Non-Small Cell</td>\n",
       "      <td>Left  Lower Lobe</td>\n",
       "      <td>0</td>\n",
       "      <td>11.0</td>\n",
       "    </tr>\n",
       "    <tr>\n",
       "      <th>3</th>\n",
       "      <td>Papillary Type AND      Adenocarcinoma, Bronch...</td>\n",
       "      <td>Left  Lower Lobe</td>\n",
       "      <td>0</td>\n",
       "      <td>3.5</td>\n",
       "    </tr>\n",
       "    <tr>\n",
       "      <th>4</th>\n",
       "      <td>Squamous Cell Carcinoma, NOS</td>\n",
       "      <td>Left  Lower Lobe</td>\n",
       "      <td>1</td>\n",
       "      <td>7.8</td>\n",
       "    </tr>\n",
       "  </tbody>\n",
       "</table>\n",
       "</div>"
      ],
      "text/plain": [
       "                       characteristics.tag.histology   source.location  \\\n",
       "0                       Squamous Cell Carcinoma, NOS  Left  Lower Lobe   \n",
       "1                     Adenocarcinoma, Papillary, NOS  Left  Lower Lobe   \n",
       "2                                     Non-Small Cell  Left  Lower Lobe   \n",
       "3  Papillary Type AND      Adenocarcinoma, Bronch...  Left  Lower Lobe   \n",
       "4                       Squamous Cell Carcinoma, NOS  Left  Lower Lobe   \n",
       "\n",
       "   characteristics.tag.gender  characteristics.tag.tumor.size.maximumdiameter  \n",
       "0                           0                                             4.0  \n",
       "1                           0                                             1.3  \n",
       "2                           0                                            11.0  \n",
       "3                           0                                             3.5  \n",
       "4                           1                                             7.8  "
      ]
     },
     "execution_count": 5,
     "metadata": {},
     "output_type": "execute_result"
    }
   ],
   "source": [
    "labels = df.iloc[:, 1:5]\n",
    "labels.head()"
   ]
  },
  {
   "cell_type": "code",
   "execution_count": 6,
   "id": "32f4b27e",
   "metadata": {},
   "outputs": [
    {
     "data": {
      "text/plain": [
       "array(['Squamous Cell Carcinoma, NOS', 'Adenocarcinoma, Papillary, NOS',\n",
       "       'Non-Small Cell',\n",
       "       'Papillary Type AND \\xa0\\xa0\\xa0\\xa0 Adenocarcinoma, Bronchiolo-alveolar Features',\n",
       "       'Adenocarcinoma, NOS', 'Solid Type And Acinar',\n",
       "       'Adenocarcinoma, Mixed',\n",
       "       'Adenocarcinoma, Mucinous With Bronchiolo-alveolar Features',\n",
       "       'Adenocarcinoma, Acinar Type',\n",
       "       'Squamous Cell Carcinoma, Other (Specify) with adeno features',\n",
       "       'Adenocarcinoma With Mucinous Features',\n",
       "       'Adenocarcinoma, Bronchiolo-alveolar Features',\n",
       "       'Adenocarcinoma With Papillary Features',\n",
       "       'Carcinoma, Large Cell, Neuroendocrine',\n",
       "       'Squamous Cell Carcinoma, Other (Specify)endobronchial',\n",
       "       'Squamous Cell Carcinoma, Papillary',\n",
       "       'Non-Small Cell, Pleomorphic Type'], dtype=object)"
      ]
     },
     "execution_count": 6,
     "metadata": {},
     "output_type": "execute_result"
    }
   ],
   "source": [
    "labels['characteristics.tag.histology'].unique()"
   ]
  },
  {
   "cell_type": "markdown",
   "id": "48bee7e3",
   "metadata": {},
   "source": [
    "There are three main types: squamous cell carcinoma and adenocarcinoma with histological subtypes and Non-Small Cell carcinoma. It might be interesting to conduct hierarchical chlustering to see how the relation between histology subtypes is based on the patterns found with clustering algorithm. From the labelling the assumption would be to see three separated clusters with maybe subclusters. Therfore an additional column is introduced with only squamous cell carcinoma and adenocarcinoma.\n",
    "\n",
    "Furthermore, the location of the tumor, the gender and the diameter of the tumor could play a role in cluster generation and are therefore used for lateron color-coding."
   ]
  },
  {
   "cell_type": "code",
   "execution_count": 49,
   "id": "ad319879",
   "metadata": {},
   "outputs": [
    {
     "data": {
      "text/html": [
       "<div>\n",
       "<style scoped>\n",
       "    .dataframe tbody tr th:only-of-type {\n",
       "        vertical-align: middle;\n",
       "    }\n",
       "\n",
       "    .dataframe tbody tr th {\n",
       "        vertical-align: top;\n",
       "    }\n",
       "\n",
       "    .dataframe thead th {\n",
       "        text-align: right;\n",
       "    }\n",
       "</style>\n",
       "<table border=\"1\" class=\"dataframe\">\n",
       "  <thead>\n",
       "    <tr style=\"text-align: right;\">\n",
       "      <th></th>\n",
       "      <th>characteristics.tag.histology</th>\n",
       "      <th>source.location</th>\n",
       "      <th>characteristics.tag.gender</th>\n",
       "      <th>characteristics.tag.tumor.size.maximumdiameter</th>\n",
       "      <th>hist_tags</th>\n",
       "    </tr>\n",
       "  </thead>\n",
       "  <tbody>\n",
       "    <tr>\n",
       "      <th>0</th>\n",
       "      <td>Squamous Cell Carcinoma, NOS</td>\n",
       "      <td>Left  Lower Lobe</td>\n",
       "      <td>0</td>\n",
       "      <td>4.0</td>\n",
       "      <td>Squamous Cell Carcinoma</td>\n",
       "    </tr>\n",
       "    <tr>\n",
       "      <th>1</th>\n",
       "      <td>Adenocarcinoma, Papillary, NOS</td>\n",
       "      <td>Left  Lower Lobe</td>\n",
       "      <td>0</td>\n",
       "      <td>1.3</td>\n",
       "      <td>Adenocarcinoma</td>\n",
       "    </tr>\n",
       "    <tr>\n",
       "      <th>2</th>\n",
       "      <td>Non-Small Cell</td>\n",
       "      <td>Left  Lower Lobe</td>\n",
       "      <td>0</td>\n",
       "      <td>11.0</td>\n",
       "      <td>Non-Small Cell</td>\n",
       "    </tr>\n",
       "    <tr>\n",
       "      <th>3</th>\n",
       "      <td>Papillary Type AND      Adenocarcinoma, Bronch...</td>\n",
       "      <td>Left  Lower Lobe</td>\n",
       "      <td>0</td>\n",
       "      <td>3.5</td>\n",
       "      <td>Adenocarcinoma</td>\n",
       "    </tr>\n",
       "    <tr>\n",
       "      <th>4</th>\n",
       "      <td>Squamous Cell Carcinoma, NOS</td>\n",
       "      <td>Left  Lower Lobe</td>\n",
       "      <td>1</td>\n",
       "      <td>7.8</td>\n",
       "      <td>Squamous Cell Carcinoma</td>\n",
       "    </tr>\n",
       "  </tbody>\n",
       "</table>\n",
       "</div>"
      ],
      "text/plain": [
       "                       characteristics.tag.histology   source.location  \\\n",
       "0                       Squamous Cell Carcinoma, NOS  Left  Lower Lobe   \n",
       "1                     Adenocarcinoma, Papillary, NOS  Left  Lower Lobe   \n",
       "2                                     Non-Small Cell  Left  Lower Lobe   \n",
       "3  Papillary Type AND      Adenocarcinoma, Bronch...  Left  Lower Lobe   \n",
       "4                       Squamous Cell Carcinoma, NOS  Left  Lower Lobe   \n",
       "\n",
       "   characteristics.tag.gender  characteristics.tag.tumor.size.maximumdiameter  \\\n",
       "0                           0                                             4.0   \n",
       "1                           0                                             1.3   \n",
       "2                           0                                            11.0   \n",
       "3                           0                                             3.5   \n",
       "4                           1                                             7.8   \n",
       "\n",
       "                 hist_tags  \n",
       "0  Squamous Cell Carcinoma  \n",
       "1           Adenocarcinoma  \n",
       "2           Non-Small Cell  \n",
       "3           Adenocarcinoma  \n",
       "4  Squamous Cell Carcinoma  "
      ]
     },
     "execution_count": 49,
     "metadata": {},
     "output_type": "execute_result"
    }
   ],
   "source": [
    "# group labels in bigger group based on similarity in their naming\n",
    "labels['hist_tags'] = labels['characteristics.tag.histology'].str.extract('(Squamous Cell Carcinoma|Adenocarcinoma|Non-Small Cell)', expand=True)\n",
    "labels.head()"
   ]
  },
  {
   "cell_type": "code",
   "execution_count": 70,
   "id": "9ff39fe8",
   "metadata": {},
   "outputs": [
    {
     "data": {
      "text/html": [
       "<div>\n",
       "<style scoped>\n",
       "    .dataframe tbody tr th:only-of-type {\n",
       "        vertical-align: middle;\n",
       "    }\n",
       "\n",
       "    .dataframe tbody tr th {\n",
       "        vertical-align: top;\n",
       "    }\n",
       "\n",
       "    .dataframe thead th {\n",
       "        text-align: right;\n",
       "    }\n",
       "</style>\n",
       "<table border=\"1\" class=\"dataframe\">\n",
       "  <thead>\n",
       "    <tr style=\"text-align: right;\">\n",
       "      <th></th>\n",
       "      <th>characteristics.tag.histology</th>\n",
       "      <th>source.location</th>\n",
       "      <th>characteristics.tag.gender</th>\n",
       "      <th>characteristics.tag.tumor.size.maximumdiameter</th>\n",
       "      <th>hist_tags</th>\n",
       "    </tr>\n",
       "  </thead>\n",
       "  <tbody>\n",
       "    <tr>\n",
       "      <th>8</th>\n",
       "      <td>Solid Type And Acinar</td>\n",
       "      <td>Right    Lower Lobe</td>\n",
       "      <td>0</td>\n",
       "      <td>4.2</td>\n",
       "      <td>NaN</td>\n",
       "    </tr>\n",
       "    <tr>\n",
       "      <th>9</th>\n",
       "      <td>Solid Type And Acinar</td>\n",
       "      <td>Left  Upper Lobe</td>\n",
       "      <td>0</td>\n",
       "      <td>6.2</td>\n",
       "      <td>NaN</td>\n",
       "    </tr>\n",
       "    <tr>\n",
       "      <th>59</th>\n",
       "      <td>Carcinoma, Large Cell, Neuroendocrine</td>\n",
       "      <td>Right    Lower Lobe</td>\n",
       "      <td>1</td>\n",
       "      <td>7.2</td>\n",
       "      <td>NaN</td>\n",
       "    </tr>\n",
       "  </tbody>\n",
       "</table>\n",
       "</div>"
      ],
      "text/plain": [
       "            characteristics.tag.histology      source.location  \\\n",
       "8                   Solid Type And Acinar  Right    Lower Lobe   \n",
       "9                   Solid Type And Acinar     Left  Upper Lobe   \n",
       "59  Carcinoma, Large Cell, Neuroendocrine  Right    Lower Lobe   \n",
       "\n",
       "    characteristics.tag.gender  \\\n",
       "8                            0   \n",
       "9                            0   \n",
       "59                           1   \n",
       "\n",
       "    characteristics.tag.tumor.size.maximumdiameter hist_tags  \n",
       "8                                              4.2       NaN  \n",
       "9                                              6.2       NaN  \n",
       "59                                             7.2       NaN  "
      ]
     },
     "execution_count": 70,
     "metadata": {},
     "output_type": "execute_result"
    }
   ],
   "source": [
    "labels[labels.hist_tags.isnull()]"
   ]
  },
  {
   "cell_type": "code",
   "execution_count": 86,
   "id": "21412569",
   "metadata": {},
   "outputs": [],
   "source": [
    "# call them others\n",
    "labels.fillna('other',inplace=True)"
   ]
  },
  {
   "cell_type": "code",
   "execution_count": 7,
   "id": "58527e9b",
   "metadata": {},
   "outputs": [
    {
     "data": {
      "text/html": [
       "<div>\n",
       "<style scoped>\n",
       "    .dataframe tbody tr th:only-of-type {\n",
       "        vertical-align: middle;\n",
       "    }\n",
       "\n",
       "    .dataframe tbody tr th {\n",
       "        vertical-align: top;\n",
       "    }\n",
       "\n",
       "    .dataframe thead th {\n",
       "        text-align: right;\n",
       "    }\n",
       "</style>\n",
       "<table border=\"1\" class=\"dataframe\">\n",
       "  <thead>\n",
       "    <tr style=\"text-align: right;\">\n",
       "      <th></th>\n",
       "      <th>('AFFX-BioB-3_at',)</th>\n",
       "      <th>('AFFX-BioB-5_at',)</th>\n",
       "      <th>('AFFX-BioB-M_at',)</th>\n",
       "      <th>('AFFX-BioC-3_at',)</th>\n",
       "      <th>('AFFX-BioC-5_at',)</th>\n",
       "      <th>('AFFX-BioDn-3_at',)</th>\n",
       "      <th>('AFFX-BioDn-5_at',)</th>\n",
       "      <th>('AFFX-BkGr-GC03_at',)</th>\n",
       "      <th>('AFFX-BkGr-GC04_at',)</th>\n",
       "      <th>('AFFX-BkGr-GC05_at',)</th>\n",
       "      <th>...</th>\n",
       "      <th>('merck2-Z41436_at',)</th>\n",
       "      <th>('merck2-Z43503_at',)</th>\n",
       "      <th>('merck2-Z47244_x_at',)</th>\n",
       "      <th>('merck2-Z47250_x_at',)</th>\n",
       "      <th>('merck2-Z48501_s_at',)</th>\n",
       "      <th>('merck2-Z48633_s_at',)</th>\n",
       "      <th>('merck2-Z70222_a_at',)</th>\n",
       "      <th>('merck2-Z70608_x_at',)</th>\n",
       "      <th>('merck2-Z72499_a_at',)</th>\n",
       "      <th>('merck2-Z75331_a_at',)</th>\n",
       "    </tr>\n",
       "  </thead>\n",
       "  <tbody>\n",
       "    <tr>\n",
       "      <th>0</th>\n",
       "      <td>7.376915</td>\n",
       "      <td>6.984530</td>\n",
       "      <td>7.330576</td>\n",
       "      <td>10.922741</td>\n",
       "      <td>11.032030</td>\n",
       "      <td>13.411168</td>\n",
       "      <td>12.625445</td>\n",
       "      <td>1.464847</td>\n",
       "      <td>1.416673</td>\n",
       "      <td>1.438285</td>\n",
       "      <td>...</td>\n",
       "      <td>7.077955</td>\n",
       "      <td>4.350631</td>\n",
       "      <td>7.506299</td>\n",
       "      <td>9.774634</td>\n",
       "      <td>11.295187</td>\n",
       "      <td>10.286077</td>\n",
       "      <td>6.892053</td>\n",
       "      <td>1.777216</td>\n",
       "      <td>9.031084</td>\n",
       "      <td>7.284069</td>\n",
       "    </tr>\n",
       "    <tr>\n",
       "      <th>1</th>\n",
       "      <td>8.024915</td>\n",
       "      <td>7.427048</td>\n",
       "      <td>8.010530</td>\n",
       "      <td>11.390638</td>\n",
       "      <td>11.533338</td>\n",
       "      <td>13.546671</td>\n",
       "      <td>12.898906</td>\n",
       "      <td>1.502126</td>\n",
       "      <td>1.398866</td>\n",
       "      <td>1.403564</td>\n",
       "      <td>...</td>\n",
       "      <td>7.552333</td>\n",
       "      <td>3.578359</td>\n",
       "      <td>5.516440</td>\n",
       "      <td>4.601167</td>\n",
       "      <td>11.443442</td>\n",
       "      <td>11.173715</td>\n",
       "      <td>5.513603</td>\n",
       "      <td>1.940099</td>\n",
       "      <td>9.527973</td>\n",
       "      <td>6.985508</td>\n",
       "    </tr>\n",
       "    <tr>\n",
       "      <th>2</th>\n",
       "      <td>7.522543</td>\n",
       "      <td>7.077207</td>\n",
       "      <td>7.334551</td>\n",
       "      <td>10.936703</td>\n",
       "      <td>11.018510</td>\n",
       "      <td>13.360017</td>\n",
       "      <td>12.540647</td>\n",
       "      <td>1.355337</td>\n",
       "      <td>1.343599</td>\n",
       "      <td>1.306212</td>\n",
       "      <td>...</td>\n",
       "      <td>5.084856</td>\n",
       "      <td>2.937384</td>\n",
       "      <td>6.310065</td>\n",
       "      <td>6.315107</td>\n",
       "      <td>11.584115</td>\n",
       "      <td>10.586540</td>\n",
       "      <td>6.112918</td>\n",
       "      <td>1.753519</td>\n",
       "      <td>9.515653</td>\n",
       "      <td>6.556233</td>\n",
       "    </tr>\n",
       "    <tr>\n",
       "      <th>3</th>\n",
       "      <td>7.152864</td>\n",
       "      <td>6.849513</td>\n",
       "      <td>7.143286</td>\n",
       "      <td>10.791909</td>\n",
       "      <td>10.875259</td>\n",
       "      <td>13.364171</td>\n",
       "      <td>12.579293</td>\n",
       "      <td>1.327548</td>\n",
       "      <td>1.272961</td>\n",
       "      <td>1.354529</td>\n",
       "      <td>...</td>\n",
       "      <td>7.136409</td>\n",
       "      <td>2.904756</td>\n",
       "      <td>5.954062</td>\n",
       "      <td>6.738276</td>\n",
       "      <td>11.240300</td>\n",
       "      <td>10.257621</td>\n",
       "      <td>6.276813</td>\n",
       "      <td>1.889742</td>\n",
       "      <td>9.383670</td>\n",
       "      <td>7.293852</td>\n",
       "    </tr>\n",
       "    <tr>\n",
       "      <th>4</th>\n",
       "      <td>7.211031</td>\n",
       "      <td>6.753131</td>\n",
       "      <td>7.077163</td>\n",
       "      <td>10.701328</td>\n",
       "      <td>10.823792</td>\n",
       "      <td>13.340075</td>\n",
       "      <td>12.420624</td>\n",
       "      <td>1.296788</td>\n",
       "      <td>1.244117</td>\n",
       "      <td>1.291959</td>\n",
       "      <td>...</td>\n",
       "      <td>7.667150</td>\n",
       "      <td>3.119091</td>\n",
       "      <td>7.257312</td>\n",
       "      <td>8.118139</td>\n",
       "      <td>10.998377</td>\n",
       "      <td>10.634072</td>\n",
       "      <td>7.041829</td>\n",
       "      <td>1.686633</td>\n",
       "      <td>9.464486</td>\n",
       "      <td>6.244336</td>\n",
       "    </tr>\n",
       "  </tbody>\n",
       "</table>\n",
       "<p>5 rows × 60607 columns</p>\n",
       "</div>"
      ],
      "text/plain": [
       "   ('AFFX-BioB-3_at',)  ('AFFX-BioB-5_at',)  ('AFFX-BioB-M_at',)  \\\n",
       "0             7.376915             6.984530             7.330576   \n",
       "1             8.024915             7.427048             8.010530   \n",
       "2             7.522543             7.077207             7.334551   \n",
       "3             7.152864             6.849513             7.143286   \n",
       "4             7.211031             6.753131             7.077163   \n",
       "\n",
       "   ('AFFX-BioC-3_at',)  ('AFFX-BioC-5_at',)  ('AFFX-BioDn-3_at',)  \\\n",
       "0            10.922741            11.032030             13.411168   \n",
       "1            11.390638            11.533338             13.546671   \n",
       "2            10.936703            11.018510             13.360017   \n",
       "3            10.791909            10.875259             13.364171   \n",
       "4            10.701328            10.823792             13.340075   \n",
       "\n",
       "   ('AFFX-BioDn-5_at',)  ('AFFX-BkGr-GC03_at',)  ('AFFX-BkGr-GC04_at',)  \\\n",
       "0             12.625445                1.464847                1.416673   \n",
       "1             12.898906                1.502126                1.398866   \n",
       "2             12.540647                1.355337                1.343599   \n",
       "3             12.579293                1.327548                1.272961   \n",
       "4             12.420624                1.296788                1.244117   \n",
       "\n",
       "   ('AFFX-BkGr-GC05_at',)  ...  ('merck2-Z41436_at',)  ('merck2-Z43503_at',)  \\\n",
       "0                1.438285  ...               7.077955               4.350631   \n",
       "1                1.403564  ...               7.552333               3.578359   \n",
       "2                1.306212  ...               5.084856               2.937384   \n",
       "3                1.354529  ...               7.136409               2.904756   \n",
       "4                1.291959  ...               7.667150               3.119091   \n",
       "\n",
       "   ('merck2-Z47244_x_at',)  ('merck2-Z47250_x_at',)  ('merck2-Z48501_s_at',)  \\\n",
       "0                 7.506299                 9.774634                11.295187   \n",
       "1                 5.516440                 4.601167                11.443442   \n",
       "2                 6.310065                 6.315107                11.584115   \n",
       "3                 5.954062                 6.738276                11.240300   \n",
       "4                 7.257312                 8.118139                10.998377   \n",
       "\n",
       "   ('merck2-Z48633_s_at',)  ('merck2-Z70222_a_at',)  ('merck2-Z70608_x_at',)  \\\n",
       "0                10.286077                 6.892053                 1.777216   \n",
       "1                11.173715                 5.513603                 1.940099   \n",
       "2                10.586540                 6.112918                 1.753519   \n",
       "3                10.257621                 6.276813                 1.889742   \n",
       "4                10.634072                 7.041829                 1.686633   \n",
       "\n",
       "   ('merck2-Z72499_a_at',)  ('merck2-Z75331_a_at',)  \n",
       "0                 9.031084                 7.284069  \n",
       "1                 9.527973                 6.985508  \n",
       "2                 9.515653                 6.556233  \n",
       "3                 9.383670                 7.293852  \n",
       "4                 9.464486                 6.244336  \n",
       "\n",
       "[5 rows x 60607 columns]"
      ]
     },
     "execution_count": 7,
     "metadata": {},
     "output_type": "execute_result"
    }
   ],
   "source": [
    "data = df.iloc[:, 5:]\n",
    "data.head()"
   ]
  },
  {
   "cell_type": "code",
   "execution_count": 25,
   "id": "f4a6e4f0",
   "metadata": {},
   "outputs": [
    {
     "data": {
      "text/plain": [
       "16116"
      ]
     },
     "execution_count": 25,
     "metadata": {},
     "output_type": "execute_result"
    }
   ],
   "source": [
    "skew_columns = (data.skew().sort_values(ascending=False))\n",
    "\n",
    "skew_columns = skew_columns.loc[skew_columns > 0.75]\n",
    "len(skew_columns.index)"
   ]
  },
  {
   "cell_type": "code",
   "execution_count": 9,
   "id": "b20a85ca",
   "metadata": {},
   "outputs": [
    {
     "data": {
      "text/html": [
       "<div>\n",
       "<style scoped>\n",
       "    .dataframe tbody tr th:only-of-type {\n",
       "        vertical-align: middle;\n",
       "    }\n",
       "\n",
       "    .dataframe tbody tr th {\n",
       "        vertical-align: top;\n",
       "    }\n",
       "\n",
       "    .dataframe thead th {\n",
       "        text-align: right;\n",
       "    }\n",
       "</style>\n",
       "<table border=\"1\" class=\"dataframe\">\n",
       "  <thead>\n",
       "    <tr style=\"text-align: right;\">\n",
       "      <th></th>\n",
       "      <th>('merck-NC_001526_ORF_1178_at',)</th>\n",
       "      <th>('merck-NC_001526_ORF_1180_at',)</th>\n",
       "      <th>('merck-NC_001526_ORF_1182_at',)</th>\n",
       "      <th>('merck-BX648957_at',)</th>\n",
       "      <th>('merck-NC_001526_ORF_1179_at',)</th>\n",
       "      <th>('merck-NM_003284_s_at',)</th>\n",
       "      <th>('merck-BC067883_at',)</th>\n",
       "      <th>('merck-AK130854_at',)</th>\n",
       "      <th>('merck-BC045546_at',)</th>\n",
       "      <th>('merck-NM_003008_at',)</th>\n",
       "      <th>...</th>\n",
       "      <th>('merck2-BG503223_at',)</th>\n",
       "      <th>('merck2-AL831965_x_at',)</th>\n",
       "      <th>('merck2-BC128418_at',)</th>\n",
       "      <th>('merck-XM_379424_at',)</th>\n",
       "      <th>('merck2-CB988589_at',)</th>\n",
       "      <th>('merck-NM_152539_at',)</th>\n",
       "      <th>('merck-ENST00000378906_at',)</th>\n",
       "      <th>('merck-AK127029_at',)</th>\n",
       "      <th>('merck2-AL713762_at',)</th>\n",
       "      <th>('merck2-BE222032_at',)</th>\n",
       "    </tr>\n",
       "  </thead>\n",
       "  <tbody>\n",
       "    <tr>\n",
       "      <th>0</th>\n",
       "      <td>1.751089</td>\n",
       "      <td>1.923739</td>\n",
       "      <td>1.779409</td>\n",
       "      <td>2.947517</td>\n",
       "      <td>2.166352</td>\n",
       "      <td>3.129840</td>\n",
       "      <td>1.891794</td>\n",
       "      <td>2.212246</td>\n",
       "      <td>1.981491</td>\n",
       "      <td>2.192580</td>\n",
       "      <td>...</td>\n",
       "      <td>1.861109</td>\n",
       "      <td>3.530079</td>\n",
       "      <td>5.139286</td>\n",
       "      <td>2.439108</td>\n",
       "      <td>4.038099</td>\n",
       "      <td>2.375657</td>\n",
       "      <td>4.644862</td>\n",
       "      <td>2.282349</td>\n",
       "      <td>2.654022</td>\n",
       "      <td>3.728412</td>\n",
       "    </tr>\n",
       "    <tr>\n",
       "      <th>1</th>\n",
       "      <td>1.734086</td>\n",
       "      <td>2.036465</td>\n",
       "      <td>2.421049</td>\n",
       "      <td>2.638011</td>\n",
       "      <td>2.422869</td>\n",
       "      <td>3.315131</td>\n",
       "      <td>1.806821</td>\n",
       "      <td>2.226301</td>\n",
       "      <td>1.757842</td>\n",
       "      <td>2.527742</td>\n",
       "      <td>...</td>\n",
       "      <td>1.898473</td>\n",
       "      <td>3.235672</td>\n",
       "      <td>5.322348</td>\n",
       "      <td>2.438386</td>\n",
       "      <td>3.593132</td>\n",
       "      <td>3.515497</td>\n",
       "      <td>4.833261</td>\n",
       "      <td>1.982835</td>\n",
       "      <td>2.325837</td>\n",
       "      <td>3.256609</td>\n",
       "    </tr>\n",
       "    <tr>\n",
       "      <th>2</th>\n",
       "      <td>1.713741</td>\n",
       "      <td>2.117503</td>\n",
       "      <td>1.900508</td>\n",
       "      <td>3.008557</td>\n",
       "      <td>2.230895</td>\n",
       "      <td>3.585259</td>\n",
       "      <td>1.819067</td>\n",
       "      <td>2.417597</td>\n",
       "      <td>9.596876</td>\n",
       "      <td>2.060241</td>\n",
       "      <td>...</td>\n",
       "      <td>1.750539</td>\n",
       "      <td>3.427685</td>\n",
       "      <td>5.369649</td>\n",
       "      <td>2.443685</td>\n",
       "      <td>3.477359</td>\n",
       "      <td>2.580502</td>\n",
       "      <td>4.828437</td>\n",
       "      <td>1.738827</td>\n",
       "      <td>2.971469</td>\n",
       "      <td>3.756250</td>\n",
       "    </tr>\n",
       "    <tr>\n",
       "      <th>3</th>\n",
       "      <td>1.430930</td>\n",
       "      <td>2.036134</td>\n",
       "      <td>1.898905</td>\n",
       "      <td>2.560518</td>\n",
       "      <td>1.945517</td>\n",
       "      <td>3.460781</td>\n",
       "      <td>1.738263</td>\n",
       "      <td>2.041107</td>\n",
       "      <td>1.916549</td>\n",
       "      <td>2.250460</td>\n",
       "      <td>...</td>\n",
       "      <td>1.562808</td>\n",
       "      <td>2.450362</td>\n",
       "      <td>6.435685</td>\n",
       "      <td>2.630789</td>\n",
       "      <td>3.659406</td>\n",
       "      <td>2.521466</td>\n",
       "      <td>4.464399</td>\n",
       "      <td>1.744224</td>\n",
       "      <td>3.935132</td>\n",
       "      <td>3.319397</td>\n",
       "    </tr>\n",
       "    <tr>\n",
       "      <th>4</th>\n",
       "      <td>9.513824</td>\n",
       "      <td>10.727684</td>\n",
       "      <td>8.923205</td>\n",
       "      <td>2.747191</td>\n",
       "      <td>9.735626</td>\n",
       "      <td>3.443854</td>\n",
       "      <td>1.602254</td>\n",
       "      <td>2.068401</td>\n",
       "      <td>1.584063</td>\n",
       "      <td>8.464755</td>\n",
       "      <td>...</td>\n",
       "      <td>1.738284</td>\n",
       "      <td>4.933662</td>\n",
       "      <td>5.478771</td>\n",
       "      <td>2.554018</td>\n",
       "      <td>4.622671</td>\n",
       "      <td>2.735747</td>\n",
       "      <td>4.542463</td>\n",
       "      <td>1.875170</td>\n",
       "      <td>3.185894</td>\n",
       "      <td>3.756722</td>\n",
       "    </tr>\n",
       "    <tr>\n",
       "      <th>...</th>\n",
       "      <td>...</td>\n",
       "      <td>...</td>\n",
       "      <td>...</td>\n",
       "      <td>...</td>\n",
       "      <td>...</td>\n",
       "      <td>...</td>\n",
       "      <td>...</td>\n",
       "      <td>...</td>\n",
       "      <td>...</td>\n",
       "      <td>...</td>\n",
       "      <td>...</td>\n",
       "      <td>...</td>\n",
       "      <td>...</td>\n",
       "      <td>...</td>\n",
       "      <td>...</td>\n",
       "      <td>...</td>\n",
       "      <td>...</td>\n",
       "      <td>...</td>\n",
       "      <td>...</td>\n",
       "      <td>...</td>\n",
       "      <td>...</td>\n",
       "    </tr>\n",
       "    <tr>\n",
       "      <th>84</th>\n",
       "      <td>1.861992</td>\n",
       "      <td>1.954489</td>\n",
       "      <td>2.087652</td>\n",
       "      <td>2.622204</td>\n",
       "      <td>1.905323</td>\n",
       "      <td>3.090534</td>\n",
       "      <td>1.791824</td>\n",
       "      <td>2.370415</td>\n",
       "      <td>1.704223</td>\n",
       "      <td>2.193021</td>\n",
       "      <td>...</td>\n",
       "      <td>1.805556</td>\n",
       "      <td>3.140600</td>\n",
       "      <td>5.444808</td>\n",
       "      <td>2.663773</td>\n",
       "      <td>3.673200</td>\n",
       "      <td>2.839320</td>\n",
       "      <td>4.273460</td>\n",
       "      <td>1.561808</td>\n",
       "      <td>3.427227</td>\n",
       "      <td>3.794744</td>\n",
       "    </tr>\n",
       "    <tr>\n",
       "      <th>85</th>\n",
       "      <td>1.897688</td>\n",
       "      <td>2.309729</td>\n",
       "      <td>1.995183</td>\n",
       "      <td>2.574371</td>\n",
       "      <td>1.835827</td>\n",
       "      <td>3.536945</td>\n",
       "      <td>1.635466</td>\n",
       "      <td>2.035348</td>\n",
       "      <td>1.687369</td>\n",
       "      <td>2.080671</td>\n",
       "      <td>...</td>\n",
       "      <td>1.809376</td>\n",
       "      <td>3.256154</td>\n",
       "      <td>5.569662</td>\n",
       "      <td>2.688792</td>\n",
       "      <td>4.508171</td>\n",
       "      <td>2.395854</td>\n",
       "      <td>4.615754</td>\n",
       "      <td>2.118412</td>\n",
       "      <td>4.893751</td>\n",
       "      <td>3.584508</td>\n",
       "    </tr>\n",
       "    <tr>\n",
       "      <th>86</th>\n",
       "      <td>1.731126</td>\n",
       "      <td>2.125028</td>\n",
       "      <td>1.896516</td>\n",
       "      <td>2.508667</td>\n",
       "      <td>2.334790</td>\n",
       "      <td>3.331077</td>\n",
       "      <td>1.538350</td>\n",
       "      <td>2.482759</td>\n",
       "      <td>2.040027</td>\n",
       "      <td>1.778554</td>\n",
       "      <td>...</td>\n",
       "      <td>1.784179</td>\n",
       "      <td>3.208765</td>\n",
       "      <td>4.962811</td>\n",
       "      <td>2.647916</td>\n",
       "      <td>4.053721</td>\n",
       "      <td>2.270624</td>\n",
       "      <td>4.951484</td>\n",
       "      <td>2.011435</td>\n",
       "      <td>3.154695</td>\n",
       "      <td>3.219972</td>\n",
       "    </tr>\n",
       "    <tr>\n",
       "      <th>87</th>\n",
       "      <td>1.811532</td>\n",
       "      <td>2.522141</td>\n",
       "      <td>2.028475</td>\n",
       "      <td>3.182315</td>\n",
       "      <td>1.872325</td>\n",
       "      <td>3.034610</td>\n",
       "      <td>1.503894</td>\n",
       "      <td>2.375632</td>\n",
       "      <td>1.726513</td>\n",
       "      <td>2.667143</td>\n",
       "      <td>...</td>\n",
       "      <td>1.748919</td>\n",
       "      <td>5.646401</td>\n",
       "      <td>5.756024</td>\n",
       "      <td>2.322542</td>\n",
       "      <td>4.833163</td>\n",
       "      <td>2.517216</td>\n",
       "      <td>4.896159</td>\n",
       "      <td>1.568157</td>\n",
       "      <td>4.135101</td>\n",
       "      <td>3.748645</td>\n",
       "    </tr>\n",
       "    <tr>\n",
       "      <th>88</th>\n",
       "      <td>1.622231</td>\n",
       "      <td>2.285551</td>\n",
       "      <td>1.902933</td>\n",
       "      <td>2.541925</td>\n",
       "      <td>1.909974</td>\n",
       "      <td>3.420662</td>\n",
       "      <td>1.300910</td>\n",
       "      <td>2.508760</td>\n",
       "      <td>1.627101</td>\n",
       "      <td>1.987789</td>\n",
       "      <td>...</td>\n",
       "      <td>1.662095</td>\n",
       "      <td>3.544661</td>\n",
       "      <td>6.174779</td>\n",
       "      <td>2.379945</td>\n",
       "      <td>3.702697</td>\n",
       "      <td>2.604619</td>\n",
       "      <td>4.811342</td>\n",
       "      <td>2.008818</td>\n",
       "      <td>2.821113</td>\n",
       "      <td>4.059725</td>\n",
       "    </tr>\n",
       "  </tbody>\n",
       "</table>\n",
       "<p>89 rows × 16116 columns</p>\n",
       "</div>"
      ],
      "text/plain": [
       "    ('merck-NC_001526_ORF_1178_at',)  ('merck-NC_001526_ORF_1180_at',)  \\\n",
       "0                           1.751089                          1.923739   \n",
       "1                           1.734086                          2.036465   \n",
       "2                           1.713741                          2.117503   \n",
       "3                           1.430930                          2.036134   \n",
       "4                           9.513824                         10.727684   \n",
       "..                               ...                               ...   \n",
       "84                          1.861992                          1.954489   \n",
       "85                          1.897688                          2.309729   \n",
       "86                          1.731126                          2.125028   \n",
       "87                          1.811532                          2.522141   \n",
       "88                          1.622231                          2.285551   \n",
       "\n",
       "    ('merck-NC_001526_ORF_1182_at',)  ('merck-BX648957_at',)  \\\n",
       "0                           1.779409                2.947517   \n",
       "1                           2.421049                2.638011   \n",
       "2                           1.900508                3.008557   \n",
       "3                           1.898905                2.560518   \n",
       "4                           8.923205                2.747191   \n",
       "..                               ...                     ...   \n",
       "84                          2.087652                2.622204   \n",
       "85                          1.995183                2.574371   \n",
       "86                          1.896516                2.508667   \n",
       "87                          2.028475                3.182315   \n",
       "88                          1.902933                2.541925   \n",
       "\n",
       "    ('merck-NC_001526_ORF_1179_at',)  ('merck-NM_003284_s_at',)  \\\n",
       "0                           2.166352                   3.129840   \n",
       "1                           2.422869                   3.315131   \n",
       "2                           2.230895                   3.585259   \n",
       "3                           1.945517                   3.460781   \n",
       "4                           9.735626                   3.443854   \n",
       "..                               ...                        ...   \n",
       "84                          1.905323                   3.090534   \n",
       "85                          1.835827                   3.536945   \n",
       "86                          2.334790                   3.331077   \n",
       "87                          1.872325                   3.034610   \n",
       "88                          1.909974                   3.420662   \n",
       "\n",
       "    ('merck-BC067883_at',)  ('merck-AK130854_at',)  ('merck-BC045546_at',)  \\\n",
       "0                 1.891794                2.212246                1.981491   \n",
       "1                 1.806821                2.226301                1.757842   \n",
       "2                 1.819067                2.417597                9.596876   \n",
       "3                 1.738263                2.041107                1.916549   \n",
       "4                 1.602254                2.068401                1.584063   \n",
       "..                     ...                     ...                     ...   \n",
       "84                1.791824                2.370415                1.704223   \n",
       "85                1.635466                2.035348                1.687369   \n",
       "86                1.538350                2.482759                2.040027   \n",
       "87                1.503894                2.375632                1.726513   \n",
       "88                1.300910                2.508760                1.627101   \n",
       "\n",
       "    ('merck-NM_003008_at',)  ...  ('merck2-BG503223_at',)  \\\n",
       "0                  2.192580  ...                 1.861109   \n",
       "1                  2.527742  ...                 1.898473   \n",
       "2                  2.060241  ...                 1.750539   \n",
       "3                  2.250460  ...                 1.562808   \n",
       "4                  8.464755  ...                 1.738284   \n",
       "..                      ...  ...                      ...   \n",
       "84                 2.193021  ...                 1.805556   \n",
       "85                 2.080671  ...                 1.809376   \n",
       "86                 1.778554  ...                 1.784179   \n",
       "87                 2.667143  ...                 1.748919   \n",
       "88                 1.987789  ...                 1.662095   \n",
       "\n",
       "    ('merck2-AL831965_x_at',)  ('merck2-BC128418_at',)  \\\n",
       "0                    3.530079                 5.139286   \n",
       "1                    3.235672                 5.322348   \n",
       "2                    3.427685                 5.369649   \n",
       "3                    2.450362                 6.435685   \n",
       "4                    4.933662                 5.478771   \n",
       "..                        ...                      ...   \n",
       "84                   3.140600                 5.444808   \n",
       "85                   3.256154                 5.569662   \n",
       "86                   3.208765                 4.962811   \n",
       "87                   5.646401                 5.756024   \n",
       "88                   3.544661                 6.174779   \n",
       "\n",
       "    ('merck-XM_379424_at',)  ('merck2-CB988589_at',)  ('merck-NM_152539_at',)  \\\n",
       "0                  2.439108                 4.038099                 2.375657   \n",
       "1                  2.438386                 3.593132                 3.515497   \n",
       "2                  2.443685                 3.477359                 2.580502   \n",
       "3                  2.630789                 3.659406                 2.521466   \n",
       "4                  2.554018                 4.622671                 2.735747   \n",
       "..                      ...                      ...                      ...   \n",
       "84                 2.663773                 3.673200                 2.839320   \n",
       "85                 2.688792                 4.508171                 2.395854   \n",
       "86                 2.647916                 4.053721                 2.270624   \n",
       "87                 2.322542                 4.833163                 2.517216   \n",
       "88                 2.379945                 3.702697                 2.604619   \n",
       "\n",
       "    ('merck-ENST00000378906_at',)  ('merck-AK127029_at',)  \\\n",
       "0                        4.644862                2.282349   \n",
       "1                        4.833261                1.982835   \n",
       "2                        4.828437                1.738827   \n",
       "3                        4.464399                1.744224   \n",
       "4                        4.542463                1.875170   \n",
       "..                            ...                     ...   \n",
       "84                       4.273460                1.561808   \n",
       "85                       4.615754                2.118412   \n",
       "86                       4.951484                2.011435   \n",
       "87                       4.896159                1.568157   \n",
       "88                       4.811342                2.008818   \n",
       "\n",
       "    ('merck2-AL713762_at',)  ('merck2-BE222032_at',)  \n",
       "0                  2.654022                 3.728412  \n",
       "1                  2.325837                 3.256609  \n",
       "2                  2.971469                 3.756250  \n",
       "3                  3.935132                 3.319397  \n",
       "4                  3.185894                 3.756722  \n",
       "..                      ...                      ...  \n",
       "84                 3.427227                 3.794744  \n",
       "85                 4.893751                 3.584508  \n",
       "86                 3.154695                 3.219972  \n",
       "87                 4.135101                 3.748645  \n",
       "88                 2.821113                 4.059725  \n",
       "\n",
       "[89 rows x 16116 columns]"
      ]
     },
     "execution_count": 9,
     "metadata": {},
     "output_type": "execute_result"
    }
   ],
   "source": [
    "to_transform = data[skew_columns.index]\n",
    "to_transform"
   ]
  },
  {
   "cell_type": "code",
   "execution_count": 27,
   "id": "4f014132",
   "metadata": {},
   "outputs": [
    {
     "data": {
      "text/plain": [
       "44491"
      ]
     },
     "execution_count": 27,
     "metadata": {},
     "output_type": "execute_result"
    }
   ],
   "source": [
    "all_values = set(data.columns)\n",
    "skew_set = set(skew_columns.index)\n",
    "not_skew_set = all_values - skew_set\n",
    "not_skew = list(not_skew_set)\n",
    "len(not_skew)"
   ]
  },
  {
   "cell_type": "code",
   "execution_count": 28,
   "id": "cf7934db",
   "metadata": {},
   "outputs": [
    {
     "data": {
      "text/html": [
       "<div>\n",
       "<style scoped>\n",
       "    .dataframe tbody tr th:only-of-type {\n",
       "        vertical-align: middle;\n",
       "    }\n",
       "\n",
       "    .dataframe tbody tr th {\n",
       "        vertical-align: top;\n",
       "    }\n",
       "\n",
       "    .dataframe thead th {\n",
       "        text-align: right;\n",
       "    }\n",
       "</style>\n",
       "<table border=\"1\" class=\"dataframe\">\n",
       "  <thead>\n",
       "    <tr style=\"text-align: right;\">\n",
       "      <th></th>\n",
       "      <th>('merck-NM_018191_at',)</th>\n",
       "      <th>('merck-BX537989_a_at',)</th>\n",
       "      <th>('merck-XM_936534_x_at',)</th>\n",
       "      <th>('merck-AK000792_at',)</th>\n",
       "      <th>('merck-CB995207_at',)</th>\n",
       "      <th>('merck-CR609491_a_at',)</th>\n",
       "      <th>('merck-NC_001405_ORF_1036_s_at',)</th>\n",
       "      <th>('merck-CR602633_at',)</th>\n",
       "      <th>('merck-BC039516_s_at',)</th>\n",
       "      <th>('merck-NM_001018137_s_at',)</th>\n",
       "      <th>...</th>\n",
       "      <th>('merck2-NM_001100111_at',)</th>\n",
       "      <th>('merck-BC002557_s_at',)</th>\n",
       "      <th>('merck-AL832022_at',)</th>\n",
       "      <th>('merck-BE296045_s_at',)</th>\n",
       "      <th>('merck-DN991517_a_at',)</th>\n",
       "      <th>('merck-AI797618_at',)</th>\n",
       "      <th>('merck2-BM551988_at',)</th>\n",
       "      <th>('merck-NM_012201_a_at',)</th>\n",
       "      <th>('merck2-BX537623_at',)</th>\n",
       "      <th>('merck-BC030713_at',)</th>\n",
       "    </tr>\n",
       "  </thead>\n",
       "  <tbody>\n",
       "    <tr>\n",
       "      <th>0</th>\n",
       "      <td>6.534763</td>\n",
       "      <td>7.345812</td>\n",
       "      <td>5.366290</td>\n",
       "      <td>4.727383</td>\n",
       "      <td>4.502786</td>\n",
       "      <td>9.540466</td>\n",
       "      <td>3.163743</td>\n",
       "      <td>7.260133</td>\n",
       "      <td>3.516949</td>\n",
       "      <td>12.250090</td>\n",
       "      <td>...</td>\n",
       "      <td>2.758667</td>\n",
       "      <td>6.108059</td>\n",
       "      <td>10.152235</td>\n",
       "      <td>5.168567</td>\n",
       "      <td>2.711582</td>\n",
       "      <td>2.304693</td>\n",
       "      <td>5.042322</td>\n",
       "      <td>9.151963</td>\n",
       "      <td>7.995034</td>\n",
       "      <td>6.475981</td>\n",
       "    </tr>\n",
       "    <tr>\n",
       "      <th>1</th>\n",
       "      <td>5.968178</td>\n",
       "      <td>7.212086</td>\n",
       "      <td>4.649927</td>\n",
       "      <td>5.166784</td>\n",
       "      <td>4.778664</td>\n",
       "      <td>8.930900</td>\n",
       "      <td>3.587144</td>\n",
       "      <td>7.962110</td>\n",
       "      <td>4.077570</td>\n",
       "      <td>11.736072</td>\n",
       "      <td>...</td>\n",
       "      <td>2.614659</td>\n",
       "      <td>6.574448</td>\n",
       "      <td>9.423644</td>\n",
       "      <td>3.892430</td>\n",
       "      <td>3.478187</td>\n",
       "      <td>2.491529</td>\n",
       "      <td>7.330315</td>\n",
       "      <td>8.614623</td>\n",
       "      <td>8.023463</td>\n",
       "      <td>9.089629</td>\n",
       "    </tr>\n",
       "    <tr>\n",
       "      <th>2</th>\n",
       "      <td>7.317066</td>\n",
       "      <td>7.271612</td>\n",
       "      <td>6.067162</td>\n",
       "      <td>4.996758</td>\n",
       "      <td>4.872086</td>\n",
       "      <td>8.800464</td>\n",
       "      <td>3.637001</td>\n",
       "      <td>7.578126</td>\n",
       "      <td>4.118933</td>\n",
       "      <td>12.358251</td>\n",
       "      <td>...</td>\n",
       "      <td>2.786349</td>\n",
       "      <td>6.508316</td>\n",
       "      <td>10.386488</td>\n",
       "      <td>5.575419</td>\n",
       "      <td>3.124884</td>\n",
       "      <td>2.296351</td>\n",
       "      <td>7.519649</td>\n",
       "      <td>8.673871</td>\n",
       "      <td>8.491518</td>\n",
       "      <td>5.262965</td>\n",
       "    </tr>\n",
       "    <tr>\n",
       "      <th>3</th>\n",
       "      <td>7.054466</td>\n",
       "      <td>7.283732</td>\n",
       "      <td>5.245580</td>\n",
       "      <td>4.588544</td>\n",
       "      <td>4.540818</td>\n",
       "      <td>9.050195</td>\n",
       "      <td>3.067438</td>\n",
       "      <td>7.207969</td>\n",
       "      <td>3.808064</td>\n",
       "      <td>11.688652</td>\n",
       "      <td>...</td>\n",
       "      <td>2.684094</td>\n",
       "      <td>5.864536</td>\n",
       "      <td>9.728469</td>\n",
       "      <td>4.824771</td>\n",
       "      <td>2.628500</td>\n",
       "      <td>2.033436</td>\n",
       "      <td>7.948130</td>\n",
       "      <td>8.814025</td>\n",
       "      <td>8.589391</td>\n",
       "      <td>10.151060</td>\n",
       "    </tr>\n",
       "    <tr>\n",
       "      <th>4</th>\n",
       "      <td>6.376612</td>\n",
       "      <td>7.777416</td>\n",
       "      <td>5.207562</td>\n",
       "      <td>5.199795</td>\n",
       "      <td>4.475618</td>\n",
       "      <td>9.246022</td>\n",
       "      <td>3.691017</td>\n",
       "      <td>7.525660</td>\n",
       "      <td>4.245912</td>\n",
       "      <td>11.790216</td>\n",
       "      <td>...</td>\n",
       "      <td>2.627397</td>\n",
       "      <td>6.831546</td>\n",
       "      <td>9.304371</td>\n",
       "      <td>5.267344</td>\n",
       "      <td>3.082911</td>\n",
       "      <td>2.469436</td>\n",
       "      <td>6.192373</td>\n",
       "      <td>9.180749</td>\n",
       "      <td>8.132856</td>\n",
       "      <td>8.047961</td>\n",
       "    </tr>\n",
       "    <tr>\n",
       "      <th>...</th>\n",
       "      <td>...</td>\n",
       "      <td>...</td>\n",
       "      <td>...</td>\n",
       "      <td>...</td>\n",
       "      <td>...</td>\n",
       "      <td>...</td>\n",
       "      <td>...</td>\n",
       "      <td>...</td>\n",
       "      <td>...</td>\n",
       "      <td>...</td>\n",
       "      <td>...</td>\n",
       "      <td>...</td>\n",
       "      <td>...</td>\n",
       "      <td>...</td>\n",
       "      <td>...</td>\n",
       "      <td>...</td>\n",
       "      <td>...</td>\n",
       "      <td>...</td>\n",
       "      <td>...</td>\n",
       "      <td>...</td>\n",
       "      <td>...</td>\n",
       "    </tr>\n",
       "    <tr>\n",
       "      <th>84</th>\n",
       "      <td>5.832808</td>\n",
       "      <td>8.306647</td>\n",
       "      <td>5.016900</td>\n",
       "      <td>4.711335</td>\n",
       "      <td>4.590254</td>\n",
       "      <td>8.940711</td>\n",
       "      <td>3.071160</td>\n",
       "      <td>7.078210</td>\n",
       "      <td>4.417282</td>\n",
       "      <td>12.018032</td>\n",
       "      <td>...</td>\n",
       "      <td>2.275262</td>\n",
       "      <td>6.690515</td>\n",
       "      <td>8.168146</td>\n",
       "      <td>5.491916</td>\n",
       "      <td>3.430895</td>\n",
       "      <td>2.116973</td>\n",
       "      <td>6.291399</td>\n",
       "      <td>8.913141</td>\n",
       "      <td>7.799542</td>\n",
       "      <td>6.736960</td>\n",
       "    </tr>\n",
       "    <tr>\n",
       "      <th>85</th>\n",
       "      <td>5.883920</td>\n",
       "      <td>7.904433</td>\n",
       "      <td>5.309542</td>\n",
       "      <td>2.823740</td>\n",
       "      <td>4.854077</td>\n",
       "      <td>9.396106</td>\n",
       "      <td>3.444416</td>\n",
       "      <td>7.502999</td>\n",
       "      <td>3.663136</td>\n",
       "      <td>12.369801</td>\n",
       "      <td>...</td>\n",
       "      <td>2.539165</td>\n",
       "      <td>6.393109</td>\n",
       "      <td>8.629389</td>\n",
       "      <td>6.542942</td>\n",
       "      <td>2.739484</td>\n",
       "      <td>2.176759</td>\n",
       "      <td>5.639600</td>\n",
       "      <td>8.894873</td>\n",
       "      <td>7.454250</td>\n",
       "      <td>6.545462</td>\n",
       "    </tr>\n",
       "    <tr>\n",
       "      <th>86</th>\n",
       "      <td>6.724430</td>\n",
       "      <td>6.241219</td>\n",
       "      <td>5.368758</td>\n",
       "      <td>4.741781</td>\n",
       "      <td>4.071904</td>\n",
       "      <td>8.613266</td>\n",
       "      <td>3.088372</td>\n",
       "      <td>7.267659</td>\n",
       "      <td>3.700851</td>\n",
       "      <td>12.333474</td>\n",
       "      <td>...</td>\n",
       "      <td>2.263516</td>\n",
       "      <td>6.206579</td>\n",
       "      <td>9.624109</td>\n",
       "      <td>5.097674</td>\n",
       "      <td>3.456101</td>\n",
       "      <td>2.031276</td>\n",
       "      <td>4.615941</td>\n",
       "      <td>8.186181</td>\n",
       "      <td>8.309754</td>\n",
       "      <td>4.214665</td>\n",
       "    </tr>\n",
       "    <tr>\n",
       "      <th>87</th>\n",
       "      <td>6.109438</td>\n",
       "      <td>8.813375</td>\n",
       "      <td>5.731733</td>\n",
       "      <td>3.294613</td>\n",
       "      <td>4.699670</td>\n",
       "      <td>10.209238</td>\n",
       "      <td>3.252470</td>\n",
       "      <td>7.397128</td>\n",
       "      <td>3.667728</td>\n",
       "      <td>11.917059</td>\n",
       "      <td>...</td>\n",
       "      <td>2.809537</td>\n",
       "      <td>6.256366</td>\n",
       "      <td>9.000384</td>\n",
       "      <td>4.881319</td>\n",
       "      <td>3.278326</td>\n",
       "      <td>2.105429</td>\n",
       "      <td>5.820353</td>\n",
       "      <td>8.966076</td>\n",
       "      <td>7.677731</td>\n",
       "      <td>6.522926</td>\n",
       "    </tr>\n",
       "    <tr>\n",
       "      <th>88</th>\n",
       "      <td>5.572679</td>\n",
       "      <td>8.370103</td>\n",
       "      <td>5.757075</td>\n",
       "      <td>4.619603</td>\n",
       "      <td>4.816212</td>\n",
       "      <td>9.738502</td>\n",
       "      <td>3.458584</td>\n",
       "      <td>7.832543</td>\n",
       "      <td>4.056203</td>\n",
       "      <td>12.117394</td>\n",
       "      <td>...</td>\n",
       "      <td>2.888006</td>\n",
       "      <td>6.929077</td>\n",
       "      <td>7.916262</td>\n",
       "      <td>5.495899</td>\n",
       "      <td>3.230636</td>\n",
       "      <td>2.193713</td>\n",
       "      <td>6.555621</td>\n",
       "      <td>9.676585</td>\n",
       "      <td>7.829345</td>\n",
       "      <td>7.422211</td>\n",
       "    </tr>\n",
       "  </tbody>\n",
       "</table>\n",
       "<p>89 rows × 44491 columns</p>\n",
       "</div>"
      ],
      "text/plain": [
       "    ('merck-NM_018191_at',)  ('merck-BX537989_a_at',)  \\\n",
       "0                  6.534763                  7.345812   \n",
       "1                  5.968178                  7.212086   \n",
       "2                  7.317066                  7.271612   \n",
       "3                  7.054466                  7.283732   \n",
       "4                  6.376612                  7.777416   \n",
       "..                      ...                       ...   \n",
       "84                 5.832808                  8.306647   \n",
       "85                 5.883920                  7.904433   \n",
       "86                 6.724430                  6.241219   \n",
       "87                 6.109438                  8.813375   \n",
       "88                 5.572679                  8.370103   \n",
       "\n",
       "    ('merck-XM_936534_x_at',)  ('merck-AK000792_at',)  ('merck-CB995207_at',)  \\\n",
       "0                    5.366290                4.727383                4.502786   \n",
       "1                    4.649927                5.166784                4.778664   \n",
       "2                    6.067162                4.996758                4.872086   \n",
       "3                    5.245580                4.588544                4.540818   \n",
       "4                    5.207562                5.199795                4.475618   \n",
       "..                        ...                     ...                     ...   \n",
       "84                   5.016900                4.711335                4.590254   \n",
       "85                   5.309542                2.823740                4.854077   \n",
       "86                   5.368758                4.741781                4.071904   \n",
       "87                   5.731733                3.294613                4.699670   \n",
       "88                   5.757075                4.619603                4.816212   \n",
       "\n",
       "    ('merck-CR609491_a_at',)  ('merck-NC_001405_ORF_1036_s_at',)  \\\n",
       "0                   9.540466                            3.163743   \n",
       "1                   8.930900                            3.587144   \n",
       "2                   8.800464                            3.637001   \n",
       "3                   9.050195                            3.067438   \n",
       "4                   9.246022                            3.691017   \n",
       "..                       ...                                 ...   \n",
       "84                  8.940711                            3.071160   \n",
       "85                  9.396106                            3.444416   \n",
       "86                  8.613266                            3.088372   \n",
       "87                 10.209238                            3.252470   \n",
       "88                  9.738502                            3.458584   \n",
       "\n",
       "    ('merck-CR602633_at',)  ('merck-BC039516_s_at',)  \\\n",
       "0                 7.260133                  3.516949   \n",
       "1                 7.962110                  4.077570   \n",
       "2                 7.578126                  4.118933   \n",
       "3                 7.207969                  3.808064   \n",
       "4                 7.525660                  4.245912   \n",
       "..                     ...                       ...   \n",
       "84                7.078210                  4.417282   \n",
       "85                7.502999                  3.663136   \n",
       "86                7.267659                  3.700851   \n",
       "87                7.397128                  3.667728   \n",
       "88                7.832543                  4.056203   \n",
       "\n",
       "    ('merck-NM_001018137_s_at',)  ...  ('merck2-NM_001100111_at',)  \\\n",
       "0                      12.250090  ...                     2.758667   \n",
       "1                      11.736072  ...                     2.614659   \n",
       "2                      12.358251  ...                     2.786349   \n",
       "3                      11.688652  ...                     2.684094   \n",
       "4                      11.790216  ...                     2.627397   \n",
       "..                           ...  ...                          ...   \n",
       "84                     12.018032  ...                     2.275262   \n",
       "85                     12.369801  ...                     2.539165   \n",
       "86                     12.333474  ...                     2.263516   \n",
       "87                     11.917059  ...                     2.809537   \n",
       "88                     12.117394  ...                     2.888006   \n",
       "\n",
       "    ('merck-BC002557_s_at',)  ('merck-AL832022_at',)  \\\n",
       "0                   6.108059               10.152235   \n",
       "1                   6.574448                9.423644   \n",
       "2                   6.508316               10.386488   \n",
       "3                   5.864536                9.728469   \n",
       "4                   6.831546                9.304371   \n",
       "..                       ...                     ...   \n",
       "84                  6.690515                8.168146   \n",
       "85                  6.393109                8.629389   \n",
       "86                  6.206579                9.624109   \n",
       "87                  6.256366                9.000384   \n",
       "88                  6.929077                7.916262   \n",
       "\n",
       "    ('merck-BE296045_s_at',)  ('merck-DN991517_a_at',)  \\\n",
       "0                   5.168567                  2.711582   \n",
       "1                   3.892430                  3.478187   \n",
       "2                   5.575419                  3.124884   \n",
       "3                   4.824771                  2.628500   \n",
       "4                   5.267344                  3.082911   \n",
       "..                       ...                       ...   \n",
       "84                  5.491916                  3.430895   \n",
       "85                  6.542942                  2.739484   \n",
       "86                  5.097674                  3.456101   \n",
       "87                  4.881319                  3.278326   \n",
       "88                  5.495899                  3.230636   \n",
       "\n",
       "    ('merck-AI797618_at',)  ('merck2-BM551988_at',)  \\\n",
       "0                 2.304693                 5.042322   \n",
       "1                 2.491529                 7.330315   \n",
       "2                 2.296351                 7.519649   \n",
       "3                 2.033436                 7.948130   \n",
       "4                 2.469436                 6.192373   \n",
       "..                     ...                      ...   \n",
       "84                2.116973                 6.291399   \n",
       "85                2.176759                 5.639600   \n",
       "86                2.031276                 4.615941   \n",
       "87                2.105429                 5.820353   \n",
       "88                2.193713                 6.555621   \n",
       "\n",
       "    ('merck-NM_012201_a_at',)  ('merck2-BX537623_at',)  ('merck-BC030713_at',)  \n",
       "0                    9.151963                 7.995034                6.475981  \n",
       "1                    8.614623                 8.023463                9.089629  \n",
       "2                    8.673871                 8.491518                5.262965  \n",
       "3                    8.814025                 8.589391               10.151060  \n",
       "4                    9.180749                 8.132856                8.047961  \n",
       "..                        ...                      ...                     ...  \n",
       "84                   8.913141                 7.799542                6.736960  \n",
       "85                   8.894873                 7.454250                6.545462  \n",
       "86                   8.186181                 8.309754                4.214665  \n",
       "87                   8.966076                 7.677731                6.522926  \n",
       "88                   9.676585                 7.829345                7.422211  \n",
       "\n",
       "[89 rows x 44491 columns]"
      ]
     },
     "execution_count": 28,
     "metadata": {},
     "output_type": "execute_result"
    }
   ],
   "source": [
    "not_transform = data[not_skew]\n",
    "not_transform"
   ]
  },
  {
   "cell_type": "markdown",
   "id": "6dd44592",
   "metadata": {},
   "source": [
    "As previously seen, the data is strongly shifted to the left side. To shift the data towards normal distribution either log transformation or power transform can be used. Here I am using Yeo-Johnson (default, which allows to handle 0s and negative values) transformation (Power transform from scikit learn). The here conducted approach, standardizes as well to mean = 0 and a unit variance. Transformaion is conducted in place."
   ]
  },
  {
   "cell_type": "code",
   "execution_count": 29,
   "id": "661c85b5",
   "metadata": {},
   "outputs": [
    {
     "name": "stderr",
     "output_type": "stream",
     "text": [
      "C:\\Users\\chiar\\anaconda3\\lib\\site-packages\\sklearn\\preprocessing\\_data.py:3253: RuntimeWarning: divide by zero encountered in log\n",
      "  loglike = -n_samples / 2 * np.log(x_trans.var())\n"
     ]
    },
    {
     "data": {
      "text/plain": [
       "array([[ 0.03038148, -1.54681499, -1.83120456, ...,  1.60454794,\n",
       "        -1.08818059,  0.06213251],\n",
       "       [-0.0811749 , -0.67534248,  1.65553644, ...,  0.41889106,\n",
       "        -2.00593658, -1.70170671],\n",
       "       [-0.22015815, -0.15896177, -0.75523945, ..., -0.98945414,\n",
       "        -0.33794457,  0.14948761],\n",
       "       ...,\n",
       "       [-0.10101654, -0.11500139, -0.78613669, ...,  0.5539392 ,\n",
       "         0.04543743, -1.86506428],\n",
       "       [ 0.3956926 ,  1.51647973,  0.10216502, ..., -2.33409513,\n",
       "         1.65252595,  0.12578364],\n",
       "       [-0.92815969,  0.68800017, -0.73660548, ...,  0.54180425,\n",
       "        -0.67854643,  1.00664129]])"
      ]
     },
     "execution_count": 29,
     "metadata": {},
     "output_type": "execute_result"
    }
   ],
   "source": [
    "from sklearn.preprocessing import power_transform\n",
    "\n",
    "power_transform(to_transform, method = 'yeo-johnson', copy = False)\n"
   ]
  },
  {
   "cell_type": "code",
   "execution_count": 30,
   "id": "3e45960c",
   "metadata": {},
   "outputs": [
    {
     "data": {
      "text/html": [
       "<div>\n",
       "<style scoped>\n",
       "    .dataframe tbody tr th:only-of-type {\n",
       "        vertical-align: middle;\n",
       "    }\n",
       "\n",
       "    .dataframe tbody tr th {\n",
       "        vertical-align: top;\n",
       "    }\n",
       "\n",
       "    .dataframe thead th {\n",
       "        text-align: right;\n",
       "    }\n",
       "</style>\n",
       "<table border=\"1\" class=\"dataframe\">\n",
       "  <thead>\n",
       "    <tr style=\"text-align: right;\">\n",
       "      <th></th>\n",
       "      <th>('merck-NC_001526_ORF_1178_at',)</th>\n",
       "      <th>('merck-NC_001526_ORF_1180_at',)</th>\n",
       "      <th>('merck-NC_001526_ORF_1182_at',)</th>\n",
       "      <th>('merck-BX648957_at',)</th>\n",
       "      <th>('merck-NC_001526_ORF_1179_at',)</th>\n",
       "      <th>('merck-NM_003284_s_at',)</th>\n",
       "      <th>('merck-BC067883_at',)</th>\n",
       "      <th>('merck-AK130854_at',)</th>\n",
       "      <th>('merck-BC045546_at',)</th>\n",
       "      <th>('merck-NM_003008_at',)</th>\n",
       "      <th>...</th>\n",
       "      <th>('merck2-BG503223_at',)</th>\n",
       "      <th>('merck2-AL831965_x_at',)</th>\n",
       "      <th>('merck2-BC128418_at',)</th>\n",
       "      <th>('merck-XM_379424_at',)</th>\n",
       "      <th>('merck2-CB988589_at',)</th>\n",
       "      <th>('merck-NM_152539_at',)</th>\n",
       "      <th>('merck-ENST00000378906_at',)</th>\n",
       "      <th>('merck-AK127029_at',)</th>\n",
       "      <th>('merck2-AL713762_at',)</th>\n",
       "      <th>('merck2-BE222032_at',)</th>\n",
       "    </tr>\n",
       "  </thead>\n",
       "  <tbody>\n",
       "    <tr>\n",
       "      <th>0</th>\n",
       "      <td>0.030381</td>\n",
       "      <td>-1.546815</td>\n",
       "      <td>-1.831205</td>\n",
       "      <td>1.281970</td>\n",
       "      <td>0.450178</td>\n",
       "      <td>-1.408027</td>\n",
       "      <td>1.053844</td>\n",
       "      <td>-0.169766</td>\n",
       "      <td>1.017636</td>\n",
       "      <td>0.676342</td>\n",
       "      <td>...</td>\n",
       "      <td>1.254614</td>\n",
       "      <td>-0.015842</td>\n",
       "      <td>-1.443560</td>\n",
       "      <td>-1.158345</td>\n",
       "      <td>0.555936</td>\n",
       "      <td>-1.392791</td>\n",
       "      <td>-0.272438</td>\n",
       "      <td>1.604548</td>\n",
       "      <td>-1.088181</td>\n",
       "      <td>0.062133</td>\n",
       "    </tr>\n",
       "    <tr>\n",
       "      <th>1</th>\n",
       "      <td>-0.081175</td>\n",
       "      <td>-0.675342</td>\n",
       "      <td>1.655536</td>\n",
       "      <td>0.002492</td>\n",
       "      <td>1.243819</td>\n",
       "      <td>-0.308315</td>\n",
       "      <td>0.726157</td>\n",
       "      <td>-0.088928</td>\n",
       "      <td>0.047040</td>\n",
       "      <td>1.618912</td>\n",
       "      <td>...</td>\n",
       "      <td>1.440834</td>\n",
       "      <td>-0.412405</td>\n",
       "      <td>-0.754943</td>\n",
       "      <td>-1.163520</td>\n",
       "      <td>-0.595960</td>\n",
       "      <td>2.373331</td>\n",
       "      <td>0.387752</td>\n",
       "      <td>0.418891</td>\n",
       "      <td>-2.005937</td>\n",
       "      <td>-1.701707</td>\n",
       "    </tr>\n",
       "    <tr>\n",
       "      <th>2</th>\n",
       "      <td>-0.220158</td>\n",
       "      <td>-0.158962</td>\n",
       "      <td>-0.755239</td>\n",
       "      <td>1.460285</td>\n",
       "      <td>0.679632</td>\n",
       "      <td>0.818967</td>\n",
       "      <td>0.776551</td>\n",
       "      <td>0.794405</td>\n",
       "      <td>2.693263</td>\n",
       "      <td>0.118111</td>\n",
       "      <td>...</td>\n",
       "      <td>0.645397</td>\n",
       "      <td>-0.147643</td>\n",
       "      <td>-0.590120</td>\n",
       "      <td>-1.125685</td>\n",
       "      <td>-0.973289</td>\n",
       "      <td>-0.442521</td>\n",
       "      <td>0.372198</td>\n",
       "      <td>-0.989454</td>\n",
       "      <td>-0.337945</td>\n",
       "      <td>0.149488</td>\n",
       "    </tr>\n",
       "    <tr>\n",
       "      <th>3</th>\n",
       "      <td>-2.985849</td>\n",
       "      <td>-0.677620</td>\n",
       "      <td>-0.767611</td>\n",
       "      <td>-0.452364</td>\n",
       "      <td>-0.538880</td>\n",
       "      <td>0.356615</td>\n",
       "      <td>0.421995</td>\n",
       "      <td>-1.395387</td>\n",
       "      <td>0.786793</td>\n",
       "      <td>0.880985</td>\n",
       "      <td>...</td>\n",
       "      <td>-0.631961</td>\n",
       "      <td>-1.810515</td>\n",
       "      <td>2.088980</td>\n",
       "      <td>0.054504</td>\n",
       "      <td>-0.396326</td>\n",
       "      <td>-0.699375</td>\n",
       "      <td>-1.021011</td>\n",
       "      <td>-0.952484</td>\n",
       "      <td>1.374020</td>\n",
       "      <td>-1.431750</td>\n",
       "    </tr>\n",
       "    <tr>\n",
       "      <th>4</th>\n",
       "      <td>3.636017</td>\n",
       "      <td>3.503463</td>\n",
       "      <td>3.246591</td>\n",
       "      <td>0.539143</td>\n",
       "      <td>3.433328</td>\n",
       "      <td>0.286771</td>\n",
       "      <td>-0.312070</td>\n",
       "      <td>-1.165640</td>\n",
       "      <td>-1.181490</td>\n",
       "      <td>3.135214</td>\n",
       "      <td>...</td>\n",
       "      <td>0.572014</td>\n",
       "      <td>1.323296</td>\n",
       "      <td>-0.228591</td>\n",
       "      <td>-0.395343</td>\n",
       "      <td>1.572380</td>\n",
       "      <td>0.175512</td>\n",
       "      <td>-0.681719</td>\n",
       "      <td>-0.141355</td>\n",
       "      <td>0.107542</td>\n",
       "      <td>0.150957</td>\n",
       "    </tr>\n",
       "    <tr>\n",
       "      <th>...</th>\n",
       "      <td>...</td>\n",
       "      <td>...</td>\n",
       "      <td>...</td>\n",
       "      <td>...</td>\n",
       "      <td>...</td>\n",
       "      <td>...</td>\n",
       "      <td>...</td>\n",
       "      <td>...</td>\n",
       "      <td>...</td>\n",
       "      <td>...</td>\n",
       "      <td>...</td>\n",
       "      <td>...</td>\n",
       "      <td>...</td>\n",
       "      <td>...</td>\n",
       "      <td>...</td>\n",
       "      <td>...</td>\n",
       "      <td>...</td>\n",
       "      <td>...</td>\n",
       "      <td>...</td>\n",
       "      <td>...</td>\n",
       "      <td>...</td>\n",
       "    </tr>\n",
       "    <tr>\n",
       "      <th>84</th>\n",
       "      <td>0.667016</td>\n",
       "      <td>-1.289084</td>\n",
       "      <td>0.424359</td>\n",
       "      <td>-0.084846</td>\n",
       "      <td>-0.760770</td>\n",
       "      <td>-1.686949</td>\n",
       "      <td>0.662880</td>\n",
       "      <td>0.609406</td>\n",
       "      <td>-0.275594</td>\n",
       "      <td>0.677983</td>\n",
       "      <td>...</td>\n",
       "      <td>0.959976</td>\n",
       "      <td>-0.552812</td>\n",
       "      <td>-0.338404</td>\n",
       "      <td>0.234691</td>\n",
       "      <td>-0.356170</td>\n",
       "      <td>0.546622</td>\n",
       "      <td>-1.965368</td>\n",
       "      <td>-2.391513</td>\n",
       "      <td>0.559836</td>\n",
       "      <td>0.267684</td>\n",
       "    </tr>\n",
       "    <tr>\n",
       "      <th>85</th>\n",
       "      <td>0.842553</td>\n",
       "      <td>0.789553</td>\n",
       "      <td>-0.098091</td>\n",
       "      <td>-0.365951</td>\n",
       "      <td>-1.182171</td>\n",
       "      <td>0.649672</td>\n",
       "      <td>-0.114605</td>\n",
       "      <td>-1.445803</td>\n",
       "      <td>-0.386367</td>\n",
       "      <td>0.213545</td>\n",
       "      <td>...</td>\n",
       "      <td>0.980954</td>\n",
       "      <td>-0.382997</td>\n",
       "      <td>0.053864</td>\n",
       "      <td>0.366470</td>\n",
       "      <td>1.406044</td>\n",
       "      <td>-1.291358</td>\n",
       "      <td>-0.384876</td>\n",
       "      <td>1.014532</td>\n",
       "      <td>2.545262</td>\n",
       "      <td>-0.416232</td>\n",
       "    </tr>\n",
       "    <tr>\n",
       "      <th>86</th>\n",
       "      <td>-0.101017</td>\n",
       "      <td>-0.115001</td>\n",
       "      <td>-0.786137</td>\n",
       "      <td>-0.797505</td>\n",
       "      <td>1.004784</td>\n",
       "      <td>-0.227977</td>\n",
       "      <td>-0.730681</td>\n",
       "      <td>1.021305</td>\n",
       "      <td>1.198104</td>\n",
       "      <td>-1.672979</td>\n",
       "      <td>...</td>\n",
       "      <td>0.840557</td>\n",
       "      <td>-0.451485</td>\n",
       "      <td>-2.192890</td>\n",
       "      <td>0.148999</td>\n",
       "      <td>0.589336</td>\n",
       "      <td>-1.951068</td>\n",
       "      <td>0.748968</td>\n",
       "      <td>0.553939</td>\n",
       "      <td>0.045437</td>\n",
       "      <td>-1.865064</td>\n",
       "    </tr>\n",
       "    <tr>\n",
       "      <th>87</th>\n",
       "      <td>0.395693</td>\n",
       "      <td>1.516480</td>\n",
       "      <td>0.102165</td>\n",
       "      <td>1.876268</td>\n",
       "      <td>-0.954592</td>\n",
       "      <td>-2.116518</td>\n",
       "      <td>-0.979832</td>\n",
       "      <td>0.630794</td>\n",
       "      <td>-0.136174</td>\n",
       "      <td>1.879004</td>\n",
       "      <td>...</td>\n",
       "      <td>0.635767</td>\n",
       "      <td>1.782442</td>\n",
       "      <td>0.585023</td>\n",
       "      <td>-2.062037</td>\n",
       "      <td>1.845539</td>\n",
       "      <td>-0.718370</td>\n",
       "      <td>0.584580</td>\n",
       "      <td>-2.334095</td>\n",
       "      <td>1.652526</td>\n",
       "      <td>0.125784</td>\n",
       "    </tr>\n",
       "    <tr>\n",
       "      <th>88</th>\n",
       "      <td>-0.928160</td>\n",
       "      <td>0.688000</td>\n",
       "      <td>-0.736605</td>\n",
       "      <td>-0.572090</td>\n",
       "      <td>-0.734316</td>\n",
       "      <td>0.188096</td>\n",
       "      <td>-2.878366</td>\n",
       "      <td>1.103554</td>\n",
       "      <td>-0.824072</td>\n",
       "      <td>-0.251989</td>\n",
       "      <td>...</td>\n",
       "      <td>0.086327</td>\n",
       "      <td>0.002434</td>\n",
       "      <td>1.580676</td>\n",
       "      <td>-1.599105</td>\n",
       "      <td>-0.271853</td>\n",
       "      <td>-0.341224</td>\n",
       "      <td>0.316548</td>\n",
       "      <td>0.541804</td>\n",
       "      <td>-0.678546</td>\n",
       "      <td>1.006641</td>\n",
       "    </tr>\n",
       "  </tbody>\n",
       "</table>\n",
       "<p>89 rows × 16116 columns</p>\n",
       "</div>"
      ],
      "text/plain": [
       "    ('merck-NC_001526_ORF_1178_at',)  ('merck-NC_001526_ORF_1180_at',)  \\\n",
       "0                           0.030381                         -1.546815   \n",
       "1                          -0.081175                         -0.675342   \n",
       "2                          -0.220158                         -0.158962   \n",
       "3                          -2.985849                         -0.677620   \n",
       "4                           3.636017                          3.503463   \n",
       "..                               ...                               ...   \n",
       "84                          0.667016                         -1.289084   \n",
       "85                          0.842553                          0.789553   \n",
       "86                         -0.101017                         -0.115001   \n",
       "87                          0.395693                          1.516480   \n",
       "88                         -0.928160                          0.688000   \n",
       "\n",
       "    ('merck-NC_001526_ORF_1182_at',)  ('merck-BX648957_at',)  \\\n",
       "0                          -1.831205                1.281970   \n",
       "1                           1.655536                0.002492   \n",
       "2                          -0.755239                1.460285   \n",
       "3                          -0.767611               -0.452364   \n",
       "4                           3.246591                0.539143   \n",
       "..                               ...                     ...   \n",
       "84                          0.424359               -0.084846   \n",
       "85                         -0.098091               -0.365951   \n",
       "86                         -0.786137               -0.797505   \n",
       "87                          0.102165                1.876268   \n",
       "88                         -0.736605               -0.572090   \n",
       "\n",
       "    ('merck-NC_001526_ORF_1179_at',)  ('merck-NM_003284_s_at',)  \\\n",
       "0                           0.450178                  -1.408027   \n",
       "1                           1.243819                  -0.308315   \n",
       "2                           0.679632                   0.818967   \n",
       "3                          -0.538880                   0.356615   \n",
       "4                           3.433328                   0.286771   \n",
       "..                               ...                        ...   \n",
       "84                         -0.760770                  -1.686949   \n",
       "85                         -1.182171                   0.649672   \n",
       "86                          1.004784                  -0.227977   \n",
       "87                         -0.954592                  -2.116518   \n",
       "88                         -0.734316                   0.188096   \n",
       "\n",
       "    ('merck-BC067883_at',)  ('merck-AK130854_at',)  ('merck-BC045546_at',)  \\\n",
       "0                 1.053844               -0.169766                1.017636   \n",
       "1                 0.726157               -0.088928                0.047040   \n",
       "2                 0.776551                0.794405                2.693263   \n",
       "3                 0.421995               -1.395387                0.786793   \n",
       "4                -0.312070               -1.165640               -1.181490   \n",
       "..                     ...                     ...                     ...   \n",
       "84                0.662880                0.609406               -0.275594   \n",
       "85               -0.114605               -1.445803               -0.386367   \n",
       "86               -0.730681                1.021305                1.198104   \n",
       "87               -0.979832                0.630794               -0.136174   \n",
       "88               -2.878366                1.103554               -0.824072   \n",
       "\n",
       "    ('merck-NM_003008_at',)  ...  ('merck2-BG503223_at',)  \\\n",
       "0                  0.676342  ...                 1.254614   \n",
       "1                  1.618912  ...                 1.440834   \n",
       "2                  0.118111  ...                 0.645397   \n",
       "3                  0.880985  ...                -0.631961   \n",
       "4                  3.135214  ...                 0.572014   \n",
       "..                      ...  ...                      ...   \n",
       "84                 0.677983  ...                 0.959976   \n",
       "85                 0.213545  ...                 0.980954   \n",
       "86                -1.672979  ...                 0.840557   \n",
       "87                 1.879004  ...                 0.635767   \n",
       "88                -0.251989  ...                 0.086327   \n",
       "\n",
       "    ('merck2-AL831965_x_at',)  ('merck2-BC128418_at',)  \\\n",
       "0                   -0.015842                -1.443560   \n",
       "1                   -0.412405                -0.754943   \n",
       "2                   -0.147643                -0.590120   \n",
       "3                   -1.810515                 2.088980   \n",
       "4                    1.323296                -0.228591   \n",
       "..                        ...                      ...   \n",
       "84                  -0.552812                -0.338404   \n",
       "85                  -0.382997                 0.053864   \n",
       "86                  -0.451485                -2.192890   \n",
       "87                   1.782442                 0.585023   \n",
       "88                   0.002434                 1.580676   \n",
       "\n",
       "    ('merck-XM_379424_at',)  ('merck2-CB988589_at',)  ('merck-NM_152539_at',)  \\\n",
       "0                 -1.158345                 0.555936                -1.392791   \n",
       "1                 -1.163520                -0.595960                 2.373331   \n",
       "2                 -1.125685                -0.973289                -0.442521   \n",
       "3                  0.054504                -0.396326                -0.699375   \n",
       "4                 -0.395343                 1.572380                 0.175512   \n",
       "..                      ...                      ...                      ...   \n",
       "84                 0.234691                -0.356170                 0.546622   \n",
       "85                 0.366470                 1.406044                -1.291358   \n",
       "86                 0.148999                 0.589336                -1.951068   \n",
       "87                -2.062037                 1.845539                -0.718370   \n",
       "88                -1.599105                -0.271853                -0.341224   \n",
       "\n",
       "    ('merck-ENST00000378906_at',)  ('merck-AK127029_at',)  \\\n",
       "0                       -0.272438                1.604548   \n",
       "1                        0.387752                0.418891   \n",
       "2                        0.372198               -0.989454   \n",
       "3                       -1.021011               -0.952484   \n",
       "4                       -0.681719               -0.141355   \n",
       "..                            ...                     ...   \n",
       "84                      -1.965368               -2.391513   \n",
       "85                      -0.384876                1.014532   \n",
       "86                       0.748968                0.553939   \n",
       "87                       0.584580               -2.334095   \n",
       "88                       0.316548                0.541804   \n",
       "\n",
       "    ('merck2-AL713762_at',)  ('merck2-BE222032_at',)  \n",
       "0                 -1.088181                 0.062133  \n",
       "1                 -2.005937                -1.701707  \n",
       "2                 -0.337945                 0.149488  \n",
       "3                  1.374020                -1.431750  \n",
       "4                  0.107542                 0.150957  \n",
       "..                      ...                      ...  \n",
       "84                 0.559836                 0.267684  \n",
       "85                 2.545262                -0.416232  \n",
       "86                 0.045437                -1.865064  \n",
       "87                 1.652526                 0.125784  \n",
       "88                -0.678546                 1.006641  \n",
       "\n",
       "[89 rows x 16116 columns]"
      ]
     },
     "execution_count": 30,
     "metadata": {},
     "output_type": "execute_result"
    }
   ],
   "source": [
    "to_transform"
   ]
  },
  {
   "cell_type": "code",
   "execution_count": 31,
   "id": "56296460",
   "metadata": {},
   "outputs": [
    {
     "data": {
      "image/png": "[encoded data removed]",
      "text/plain": [
       "<Figure size 432x288 with 1 Axes>"
      ]
     },
     "metadata": {
      "needs_background": "light"
     },
     "output_type": "display_data"
    }
   ],
   "source": [
    "# check distribution\n",
    "dist1 = to_transform[\"('merck-NC_001526_ORF_1178_at',)\"].plot()"
   ]
  },
  {
   "cell_type": "code",
   "execution_count": 32,
   "id": "3fd9d092",
   "metadata": {},
   "outputs": [
    {
     "data": {
      "text/html": [
       "<div>\n",
       "<style scoped>\n",
       "    .dataframe tbody tr th:only-of-type {\n",
       "        vertical-align: middle;\n",
       "    }\n",
       "\n",
       "    .dataframe tbody tr th {\n",
       "        vertical-align: top;\n",
       "    }\n",
       "\n",
       "    .dataframe thead th {\n",
       "        text-align: right;\n",
       "    }\n",
       "</style>\n",
       "<table border=\"1\" class=\"dataframe\">\n",
       "  <thead>\n",
       "    <tr style=\"text-align: right;\">\n",
       "      <th></th>\n",
       "      <th>('merck-NC_001526_ORF_1178_at',)</th>\n",
       "      <th>('merck-NC_001526_ORF_1180_at',)</th>\n",
       "      <th>('merck-NC_001526_ORF_1182_at',)</th>\n",
       "      <th>('merck-BX648957_at',)</th>\n",
       "      <th>('merck-NC_001526_ORF_1179_at',)</th>\n",
       "      <th>('merck-NM_003284_s_at',)</th>\n",
       "      <th>('merck-BC067883_at',)</th>\n",
       "      <th>('merck-AK130854_at',)</th>\n",
       "      <th>('merck-BC045546_at',)</th>\n",
       "      <th>('merck-NM_003008_at',)</th>\n",
       "      <th>...</th>\n",
       "      <th>('merck2-NM_001100111_at',)</th>\n",
       "      <th>('merck-BC002557_s_at',)</th>\n",
       "      <th>('merck-AL832022_at',)</th>\n",
       "      <th>('merck-BE296045_s_at',)</th>\n",
       "      <th>('merck-DN991517_a_at',)</th>\n",
       "      <th>('merck-AI797618_at',)</th>\n",
       "      <th>('merck2-BM551988_at',)</th>\n",
       "      <th>('merck-NM_012201_a_at',)</th>\n",
       "      <th>('merck2-BX537623_at',)</th>\n",
       "      <th>('merck-BC030713_at',)</th>\n",
       "    </tr>\n",
       "  </thead>\n",
       "  <tbody>\n",
       "    <tr>\n",
       "      <th>0</th>\n",
       "      <td>0.030381</td>\n",
       "      <td>-1.546815</td>\n",
       "      <td>-1.831205</td>\n",
       "      <td>1.281970</td>\n",
       "      <td>0.450178</td>\n",
       "      <td>-1.408027</td>\n",
       "      <td>1.053844</td>\n",
       "      <td>-0.169766</td>\n",
       "      <td>1.017636</td>\n",
       "      <td>0.676342</td>\n",
       "      <td>...</td>\n",
       "      <td>2.758667</td>\n",
       "      <td>6.108059</td>\n",
       "      <td>10.152235</td>\n",
       "      <td>5.168567</td>\n",
       "      <td>2.711582</td>\n",
       "      <td>2.304693</td>\n",
       "      <td>5.042322</td>\n",
       "      <td>9.151963</td>\n",
       "      <td>7.995034</td>\n",
       "      <td>6.475981</td>\n",
       "    </tr>\n",
       "    <tr>\n",
       "      <th>1</th>\n",
       "      <td>-0.081175</td>\n",
       "      <td>-0.675342</td>\n",
       "      <td>1.655536</td>\n",
       "      <td>0.002492</td>\n",
       "      <td>1.243819</td>\n",
       "      <td>-0.308315</td>\n",
       "      <td>0.726157</td>\n",
       "      <td>-0.088928</td>\n",
       "      <td>0.047040</td>\n",
       "      <td>1.618912</td>\n",
       "      <td>...</td>\n",
       "      <td>2.614659</td>\n",
       "      <td>6.574448</td>\n",
       "      <td>9.423644</td>\n",
       "      <td>3.892430</td>\n",
       "      <td>3.478187</td>\n",
       "      <td>2.491529</td>\n",
       "      <td>7.330315</td>\n",
       "      <td>8.614623</td>\n",
       "      <td>8.023463</td>\n",
       "      <td>9.089629</td>\n",
       "    </tr>\n",
       "    <tr>\n",
       "      <th>2</th>\n",
       "      <td>-0.220158</td>\n",
       "      <td>-0.158962</td>\n",
       "      <td>-0.755239</td>\n",
       "      <td>1.460285</td>\n",
       "      <td>0.679632</td>\n",
       "      <td>0.818967</td>\n",
       "      <td>0.776551</td>\n",
       "      <td>0.794405</td>\n",
       "      <td>2.693263</td>\n",
       "      <td>0.118111</td>\n",
       "      <td>...</td>\n",
       "      <td>2.786349</td>\n",
       "      <td>6.508316</td>\n",
       "      <td>10.386488</td>\n",
       "      <td>5.575419</td>\n",
       "      <td>3.124884</td>\n",
       "      <td>2.296351</td>\n",
       "      <td>7.519649</td>\n",
       "      <td>8.673871</td>\n",
       "      <td>8.491518</td>\n",
       "      <td>5.262965</td>\n",
       "    </tr>\n",
       "    <tr>\n",
       "      <th>3</th>\n",
       "      <td>-2.985849</td>\n",
       "      <td>-0.677620</td>\n",
       "      <td>-0.767611</td>\n",
       "      <td>-0.452364</td>\n",
       "      <td>-0.538880</td>\n",
       "      <td>0.356615</td>\n",
       "      <td>0.421995</td>\n",
       "      <td>-1.395387</td>\n",
       "      <td>0.786793</td>\n",
       "      <td>0.880985</td>\n",
       "      <td>...</td>\n",
       "      <td>2.684094</td>\n",
       "      <td>5.864536</td>\n",
       "      <td>9.728469</td>\n",
       "      <td>4.824771</td>\n",
       "      <td>2.628500</td>\n",
       "      <td>2.033436</td>\n",
       "      <td>7.948130</td>\n",
       "      <td>8.814025</td>\n",
       "      <td>8.589391</td>\n",
       "      <td>10.151060</td>\n",
       "    </tr>\n",
       "    <tr>\n",
       "      <th>4</th>\n",
       "      <td>3.636017</td>\n",
       "      <td>3.503463</td>\n",
       "      <td>3.246591</td>\n",
       "      <td>0.539143</td>\n",
       "      <td>3.433328</td>\n",
       "      <td>0.286771</td>\n",
       "      <td>-0.312070</td>\n",
       "      <td>-1.165640</td>\n",
       "      <td>-1.181490</td>\n",
       "      <td>3.135214</td>\n",
       "      <td>...</td>\n",
       "      <td>2.627397</td>\n",
       "      <td>6.831546</td>\n",
       "      <td>9.304371</td>\n",
       "      <td>5.267344</td>\n",
       "      <td>3.082911</td>\n",
       "      <td>2.469436</td>\n",
       "      <td>6.192373</td>\n",
       "      <td>9.180749</td>\n",
       "      <td>8.132856</td>\n",
       "      <td>8.047961</td>\n",
       "    </tr>\n",
       "  </tbody>\n",
       "</table>\n",
       "<p>5 rows × 60607 columns</p>\n",
       "</div>"
      ],
      "text/plain": [
       "   ('merck-NC_001526_ORF_1178_at',)  ('merck-NC_001526_ORF_1180_at',)  \\\n",
       "0                          0.030381                         -1.546815   \n",
       "1                         -0.081175                         -0.675342   \n",
       "2                         -0.220158                         -0.158962   \n",
       "3                         -2.985849                         -0.677620   \n",
       "4                          3.636017                          3.503463   \n",
       "\n",
       "   ('merck-NC_001526_ORF_1182_at',)  ('merck-BX648957_at',)  \\\n",
       "0                         -1.831205                1.281970   \n",
       "1                          1.655536                0.002492   \n",
       "2                         -0.755239                1.460285   \n",
       "3                         -0.767611               -0.452364   \n",
       "4                          3.246591                0.539143   \n",
       "\n",
       "   ('merck-NC_001526_ORF_1179_at',)  ('merck-NM_003284_s_at',)  \\\n",
       "0                          0.450178                  -1.408027   \n",
       "1                          1.243819                  -0.308315   \n",
       "2                          0.679632                   0.818967   \n",
       "3                         -0.538880                   0.356615   \n",
       "4                          3.433328                   0.286771   \n",
       "\n",
       "   ('merck-BC067883_at',)  ('merck-AK130854_at',)  ('merck-BC045546_at',)  \\\n",
       "0                1.053844               -0.169766                1.017636   \n",
       "1                0.726157               -0.088928                0.047040   \n",
       "2                0.776551                0.794405                2.693263   \n",
       "3                0.421995               -1.395387                0.786793   \n",
       "4               -0.312070               -1.165640               -1.181490   \n",
       "\n",
       "   ('merck-NM_003008_at',)  ...  ('merck2-NM_001100111_at',)  \\\n",
       "0                 0.676342  ...                     2.758667   \n",
       "1                 1.618912  ...                     2.614659   \n",
       "2                 0.118111  ...                     2.786349   \n",
       "3                 0.880985  ...                     2.684094   \n",
       "4                 3.135214  ...                     2.627397   \n",
       "\n",
       "   ('merck-BC002557_s_at',)  ('merck-AL832022_at',)  ('merck-BE296045_s_at',)  \\\n",
       "0                  6.108059               10.152235                  5.168567   \n",
       "1                  6.574448                9.423644                  3.892430   \n",
       "2                  6.508316               10.386488                  5.575419   \n",
       "3                  5.864536                9.728469                  4.824771   \n",
       "4                  6.831546                9.304371                  5.267344   \n",
       "\n",
       "   ('merck-DN991517_a_at',)  ('merck-AI797618_at',)  ('merck2-BM551988_at',)  \\\n",
       "0                  2.711582                2.304693                 5.042322   \n",
       "1                  3.478187                2.491529                 7.330315   \n",
       "2                  3.124884                2.296351                 7.519649   \n",
       "3                  2.628500                2.033436                 7.948130   \n",
       "4                  3.082911                2.469436                 6.192373   \n",
       "\n",
       "   ('merck-NM_012201_a_at',)  ('merck2-BX537623_at',)  ('merck-BC030713_at',)  \n",
       "0                   9.151963                 7.995034                6.475981  \n",
       "1                   8.614623                 8.023463                9.089629  \n",
       "2                   8.673871                 8.491518                5.262965  \n",
       "3                   8.814025                 8.589391               10.151060  \n",
       "4                   9.180749                 8.132856                8.047961  \n",
       "\n",
       "[5 rows x 60607 columns]"
      ]
     },
     "execution_count": 32,
     "metadata": {},
     "output_type": "execute_result"
    }
   ],
   "source": [
    "# concatenate the two subsets and standardize\n",
    "data1 = pd.concat([to_transform, not_transform], axis = 1)\n",
    "data1.head()"
   ]
  },
  {
   "cell_type": "code",
   "execution_count": 33,
   "id": "1d7a614e",
   "metadata": {},
   "outputs": [],
   "source": [
    "X = data.values"
   ]
  },
  {
   "cell_type": "code",
   "execution_count": 34,
   "id": "2ef27bbf",
   "metadata": {},
   "outputs": [
    {
     "name": "stdout",
     "output_type": "stream",
     "text": [
      "(89, 60607)\n"
     ]
    },
    {
     "data": {
      "text/plain": [
       "dtype('float64')"
      ]
     },
     "execution_count": 34,
     "metadata": {},
     "output_type": "execute_result"
    }
   ],
   "source": [
    "print(X.shape)\n",
    "X.dtype"
   ]
  },
  {
   "cell_type": "code",
   "execution_count": 35,
   "id": "0914b175",
   "metadata": {},
   "outputs": [],
   "source": [
    "from sklearn.preprocessing import StandardScaler\n",
    "# standardize X\n",
    "X = StandardScaler().fit_transform(X)"
   ]
  },
  {
   "cell_type": "markdown",
   "id": "61466b97",
   "metadata": {},
   "source": [
    "## Dimensionality Reduction\n",
    "\n",
    "Gene expression data is high dimensional, big data. To visualise the data and to form clusters a reduction of the dimensionality is required. The standard procedure seems to be PCA, however this might not necessarily be the optimal choice but just the best known strategy amonst biologists. The gene expression data for this project was acquired using affymetrix microchips. This technology has the following drawbacks:\n",
    "- only known genes (for which markers are coated to the well) are detected and measured\n",
    "- we measure intensities, for very high intensities there could be blending out artificats arise for the genes coated to the neighboring area\n",
    "This two sources of inaccurracy may introduce noise and may impede the analysis. It might decrease the covariances, which affects the PCA outcome as well as decreases the distance in intensity levels of close to each other coated genes. Keeping this in mind, several dimensionality reduction techniques as well as clustering techniques are tested. \n",
    "\n",
    "Dimensionality reduction:\n",
    "- PCA (reduce to 2 dimensions to visualize, reduce to as many principle components are needed to explain 85% of the variance and use all these components as input for clustering)\n",
    "- Multidmensional scaling\n",
    "- Spectral clustering\n",
    "\n",
    "Clustering:\n",
    "- hierarchical to see whether some histologies have hidden factors in common\n",
    "- k-means as basic method\n",
    "- "
   ]
  },
  {
   "cell_type": "code",
   "execution_count": 38,
   "id": "26549df5",
   "metadata": {},
   "outputs": [
    {
     "name": "stdout",
     "output_type": "stream",
     "text": [
      "(89, 57)\n"
     ]
    },
    {
     "data": {
      "text/html": [
       "<div>\n",
       "<style scoped>\n",
       "    .dataframe tbody tr th:only-of-type {\n",
       "        vertical-align: middle;\n",
       "    }\n",
       "\n",
       "    .dataframe tbody tr th {\n",
       "        vertical-align: top;\n",
       "    }\n",
       "\n",
       "    .dataframe thead th {\n",
       "        text-align: right;\n",
       "    }\n",
       "</style>\n",
       "<table border=\"1\" class=\"dataframe\">\n",
       "  <thead>\n",
       "    <tr style=\"text-align: right;\">\n",
       "      <th></th>\n",
       "      <th>0</th>\n",
       "      <th>1</th>\n",
       "      <th>2</th>\n",
       "      <th>3</th>\n",
       "      <th>4</th>\n",
       "      <th>5</th>\n",
       "      <th>6</th>\n",
       "      <th>7</th>\n",
       "      <th>8</th>\n",
       "      <th>9</th>\n",
       "      <th>...</th>\n",
       "      <th>47</th>\n",
       "      <th>48</th>\n",
       "      <th>49</th>\n",
       "      <th>50</th>\n",
       "      <th>51</th>\n",
       "      <th>52</th>\n",
       "      <th>53</th>\n",
       "      <th>54</th>\n",
       "      <th>55</th>\n",
       "      <th>56</th>\n",
       "    </tr>\n",
       "  </thead>\n",
       "  <tbody>\n",
       "    <tr>\n",
       "      <th>0</th>\n",
       "      <td>6.760329</td>\n",
       "      <td>-141.480051</td>\n",
       "      <td>75.042803</td>\n",
       "      <td>30.232882</td>\n",
       "      <td>-23.051964</td>\n",
       "      <td>-1.352106</td>\n",
       "      <td>30.262335</td>\n",
       "      <td>-35.331611</td>\n",
       "      <td>60.763064</td>\n",
       "      <td>-7.459005</td>\n",
       "      <td>...</td>\n",
       "      <td>-22.322967</td>\n",
       "      <td>-36.335866</td>\n",
       "      <td>-2.828949</td>\n",
       "      <td>-10.344636</td>\n",
       "      <td>15.547158</td>\n",
       "      <td>-37.221972</td>\n",
       "      <td>-17.749164</td>\n",
       "      <td>-14.207620</td>\n",
       "      <td>-45.470199</td>\n",
       "      <td>14.800038</td>\n",
       "    </tr>\n",
       "    <tr>\n",
       "      <th>1</th>\n",
       "      <td>21.130335</td>\n",
       "      <td>134.475577</td>\n",
       "      <td>27.248473</td>\n",
       "      <td>90.492174</td>\n",
       "      <td>-38.342452</td>\n",
       "      <td>-63.728887</td>\n",
       "      <td>10.604486</td>\n",
       "      <td>9.379915</td>\n",
       "      <td>-2.399403</td>\n",
       "      <td>47.993608</td>\n",
       "      <td>...</td>\n",
       "      <td>-5.605550</td>\n",
       "      <td>-8.518852</td>\n",
       "      <td>7.399636</td>\n",
       "      <td>-3.208072</td>\n",
       "      <td>-5.133231</td>\n",
       "      <td>7.803313</td>\n",
       "      <td>14.614975</td>\n",
       "      <td>3.097042</td>\n",
       "      <td>-8.835036</td>\n",
       "      <td>1.070956</td>\n",
       "    </tr>\n",
       "    <tr>\n",
       "      <th>2</th>\n",
       "      <td>68.559681</td>\n",
       "      <td>-35.429226</td>\n",
       "      <td>6.917444</td>\n",
       "      <td>22.645127</td>\n",
       "      <td>-6.754912</td>\n",
       "      <td>-18.280224</td>\n",
       "      <td>-46.612093</td>\n",
       "      <td>-75.649648</td>\n",
       "      <td>84.753069</td>\n",
       "      <td>-7.348403</td>\n",
       "      <td>...</td>\n",
       "      <td>-17.103231</td>\n",
       "      <td>-11.695485</td>\n",
       "      <td>1.059985</td>\n",
       "      <td>-10.170325</td>\n",
       "      <td>2.680721</td>\n",
       "      <td>-6.886464</td>\n",
       "      <td>-5.053541</td>\n",
       "      <td>0.885706</td>\n",
       "      <td>17.296433</td>\n",
       "      <td>7.868579</td>\n",
       "    </tr>\n",
       "    <tr>\n",
       "      <th>3</th>\n",
       "      <td>-126.751318</td>\n",
       "      <td>-35.927678</td>\n",
       "      <td>12.938394</td>\n",
       "      <td>152.705859</td>\n",
       "      <td>60.402829</td>\n",
       "      <td>25.372951</td>\n",
       "      <td>-18.145988</td>\n",
       "      <td>7.351377</td>\n",
       "      <td>25.033928</td>\n",
       "      <td>13.860940</td>\n",
       "      <td>...</td>\n",
       "      <td>6.699883</td>\n",
       "      <td>46.335126</td>\n",
       "      <td>-50.005586</td>\n",
       "      <td>2.009087</td>\n",
       "      <td>-23.496325</td>\n",
       "      <td>8.557860</td>\n",
       "      <td>-37.183862</td>\n",
       "      <td>18.745653</td>\n",
       "      <td>-12.085788</td>\n",
       "      <td>-18.136756</td>\n",
       "    </tr>\n",
       "    <tr>\n",
       "      <th>4</th>\n",
       "      <td>62.015873</td>\n",
       "      <td>-1.352475</td>\n",
       "      <td>33.624895</td>\n",
       "      <td>-41.890361</td>\n",
       "      <td>42.440169</td>\n",
       "      <td>9.261097</td>\n",
       "      <td>-53.360668</td>\n",
       "      <td>1.864719</td>\n",
       "      <td>-16.917420</td>\n",
       "      <td>-27.610670</td>\n",
       "      <td>...</td>\n",
       "      <td>-20.490984</td>\n",
       "      <td>-26.393151</td>\n",
       "      <td>7.170718</td>\n",
       "      <td>-9.212835</td>\n",
       "      <td>-2.479931</td>\n",
       "      <td>13.944681</td>\n",
       "      <td>-16.552778</td>\n",
       "      <td>-3.379650</td>\n",
       "      <td>-32.296288</td>\n",
       "      <td>16.298951</td>\n",
       "    </tr>\n",
       "  </tbody>\n",
       "</table>\n",
       "<p>5 rows × 57 columns</p>\n",
       "</div>"
      ],
      "text/plain": [
       "           0           1          2           3          4          5   \\\n",
       "0    6.760329 -141.480051  75.042803   30.232882 -23.051964  -1.352106   \n",
       "1   21.130335  134.475577  27.248473   90.492174 -38.342452 -63.728887   \n",
       "2   68.559681  -35.429226   6.917444   22.645127  -6.754912 -18.280224   \n",
       "3 -126.751318  -35.927678  12.938394  152.705859  60.402829  25.372951   \n",
       "4   62.015873   -1.352475  33.624895  -41.890361  42.440169   9.261097   \n",
       "\n",
       "          6          7          8          9   ...         47         48  \\\n",
       "0  30.262335 -35.331611  60.763064  -7.459005  ... -22.322967 -36.335866   \n",
       "1  10.604486   9.379915  -2.399403  47.993608  ...  -5.605550  -8.518852   \n",
       "2 -46.612093 -75.649648  84.753069  -7.348403  ... -17.103231 -11.695485   \n",
       "3 -18.145988   7.351377  25.033928  13.860940  ...   6.699883  46.335126   \n",
       "4 -53.360668   1.864719 -16.917420 -27.610670  ... -20.490984 -26.393151   \n",
       "\n",
       "          49         50         51         52         53         54  \\\n",
       "0  -2.828949 -10.344636  15.547158 -37.221972 -17.749164 -14.207620   \n",
       "1   7.399636  -3.208072  -5.133231   7.803313  14.614975   3.097042   \n",
       "2   1.059985 -10.170325   2.680721  -6.886464  -5.053541   0.885706   \n",
       "3 -50.005586   2.009087 -23.496325   8.557860 -37.183862  18.745653   \n",
       "4   7.170718  -9.212835  -2.479931  13.944681 -16.552778  -3.379650   \n",
       "\n",
       "          55         56  \n",
       "0 -45.470199  14.800038  \n",
       "1  -8.835036   1.070956  \n",
       "2  17.296433   7.868579  \n",
       "3 -12.085788 -18.136756  \n",
       "4 -32.296288  16.298951  \n",
       "\n",
       "[5 rows x 57 columns]"
      ]
     },
     "execution_count": 38,
     "metadata": {},
     "output_type": "execute_result"
    }
   ],
   "source": [
    "## PCA\n",
    "from sklearn.decomposition import PCA\n",
    "\n",
    "pca = PCA(n_components=0.85)\n",
    "principalComponents = pca.fit_transform(X)\n",
    "principalDf = pd.DataFrame(data = principalComponents)\n",
    "print(principalDf.shape)\n",
    "principalDf.head()"
   ]
  },
  {
   "cell_type": "code",
   "execution_count": 39,
   "id": "982a2833",
   "metadata": {},
   "outputs": [
    {
     "name": "stderr",
     "output_type": "stream",
     "text": [
      "C:\\Users\\chiar\\anaconda3\\lib\\site-packages\\seaborn\\_decorators.py:36: FutureWarning: Pass the following variables as keyword args: x, y. From version 0.12, the only valid positional argument will be `data`, and passing other arguments without an explicit keyword will result in an error or misinterpretation.\n",
      "  warnings.warn(\n"
     ]
    },
    {
     "data": {
      "text/plain": [
       "<AxesSubplot:xlabel='0', ylabel='1'>"
      ]
     },
     "execution_count": 39,
     "metadata": {},
     "output_type": "execute_result"
    },
    {
     "data": {
      "image/png": "[encoded data removed]",
      "text/plain": [
       "<Figure size 432x288 with 1 Axes>"
      ]
     },
     "metadata": {
      "needs_background": "light"
     },
     "output_type": "display_data"
    }
   ],
   "source": [
    "import seaborn as sns\n",
    "sns.scatterplot(principalDf[0], principalDf[1], hue = labels['characteristics.tag.histology'], legend = False)"
   ]
  },
  {
   "cell_type": "code",
   "execution_count": 51,
   "id": "c4775cd9",
   "metadata": {},
   "outputs": [
    {
     "name": "stderr",
     "output_type": "stream",
     "text": [
      "C:\\Users\\chiar\\anaconda3\\lib\\site-packages\\seaborn\\_decorators.py:36: FutureWarning: Pass the following variables as keyword args: x, y. From version 0.12, the only valid positional argument will be `data`, and passing other arguments without an explicit keyword will result in an error or misinterpretation.\n",
      "  warnings.warn(\n"
     ]
    },
    {
     "data": {
      "text/plain": [
       "<AxesSubplot:xlabel='0', ylabel='1'>"
      ]
     },
     "execution_count": 51,
     "metadata": {},
     "output_type": "execute_result"
    },
    {
     "data": {
      "image/png": "[encoded data removed]",
      "text/plain": [
       "<Figure size 432x288 with 1 Axes>"
      ]
     },
     "metadata": {
      "needs_background": "light"
     },
     "output_type": "display_data"
    }
   ],
   "source": [
    "sns.scatterplot(principalDf[0], principalDf[1], hue = labels['hist_tags'], legend = False)"
   ]
  },
  {
   "cell_type": "code",
   "execution_count": 40,
   "id": "b6d48db5",
   "metadata": {},
   "outputs": [
    {
     "name": "stderr",
     "output_type": "stream",
     "text": [
      "C:\\Users\\chiar\\anaconda3\\lib\\site-packages\\seaborn\\_decorators.py:36: FutureWarning: Pass the following variables as keyword args: x, y. From version 0.12, the only valid positional argument will be `data`, and passing other arguments without an explicit keyword will result in an error or misinterpretation.\n",
      "  warnings.warn(\n"
     ]
    },
    {
     "data": {
      "text/plain": [
       "<AxesSubplot:xlabel='1', ylabel='2'>"
      ]
     },
     "execution_count": 40,
     "metadata": {},
     "output_type": "execute_result"
    },
    {
     "data": {
      "image/png": "[encoded data removed]",
      "text/plain": [
       "<Figure size 432x288 with 1 Axes>"
      ]
     },
     "metadata": {
      "needs_background": "light"
     },
     "output_type": "display_data"
    }
   ],
   "source": [
    "sns.scatterplot(principalDf[1], principalDf[2], hue = labels['characteristics.tag.histology'], legend = False)"
   ]
  },
  {
   "cell_type": "code",
   "execution_count": 52,
   "id": "93fa83ee",
   "metadata": {},
   "outputs": [
    {
     "name": "stderr",
     "output_type": "stream",
     "text": [
      "C:\\Users\\chiar\\anaconda3\\lib\\site-packages\\seaborn\\_decorators.py:36: FutureWarning: Pass the following variables as keyword args: x, y. From version 0.12, the only valid positional argument will be `data`, and passing other arguments without an explicit keyword will result in an error or misinterpretation.\n",
      "  warnings.warn(\n"
     ]
    },
    {
     "data": {
      "text/plain": [
       "<AxesSubplot:xlabel='1', ylabel='2'>"
      ]
     },
     "execution_count": 52,
     "metadata": {},
     "output_type": "execute_result"
    },
    {
     "data": {
      "image/png": "[encoded data removed]",
      "text/plain": [
       "<Figure size 432x288 with 1 Axes>"
      ]
     },
     "metadata": {
      "needs_background": "light"
     },
     "output_type": "display_data"
    }
   ],
   "source": [
    "sns.scatterplot(principalDf[1], principalDf[2], hue = labels['hist_tags'], legend = False)"
   ]
  },
  {
   "cell_type": "code",
   "execution_count": 41,
   "id": "3058b680",
   "metadata": {},
   "outputs": [
    {
     "name": "stderr",
     "output_type": "stream",
     "text": [
      "C:\\Users\\chiar\\anaconda3\\lib\\site-packages\\seaborn\\_decorators.py:36: FutureWarning: Pass the following variables as keyword args: x, y. From version 0.12, the only valid positional argument will be `data`, and passing other arguments without an explicit keyword will result in an error or misinterpretation.\n",
      "  warnings.warn(\n"
     ]
    },
    {
     "data": {
      "text/plain": [
       "<AxesSubplot:xlabel='0', ylabel='2'>"
      ]
     },
     "execution_count": 41,
     "metadata": {},
     "output_type": "execute_result"
    },
    {
     "data": {
      "image/png": "[encoded data removed]",
      "text/plain": [
       "<Figure size 432x288 with 1 Axes>"
      ]
     },
     "metadata": {
      "needs_background": "light"
     },
     "output_type": "display_data"
    }
   ],
   "source": [
    "sns.scatterplot(principalDf[0], principalDf[2], hue = labels['characteristics.tag.histology'], legend = False)"
   ]
  },
  {
   "cell_type": "code",
   "execution_count": 53,
   "id": "125dc660",
   "metadata": {},
   "outputs": [
    {
     "name": "stderr",
     "output_type": "stream",
     "text": [
      "C:\\Users\\chiar\\anaconda3\\lib\\site-packages\\seaborn\\_decorators.py:36: FutureWarning: Pass the following variables as keyword args: x, y. From version 0.12, the only valid positional argument will be `data`, and passing other arguments without an explicit keyword will result in an error or misinterpretation.\n",
      "  warnings.warn(\n"
     ]
    },
    {
     "data": {
      "text/plain": [
       "<AxesSubplot:xlabel='0', ylabel='2'>"
      ]
     },
     "execution_count": 53,
     "metadata": {},
     "output_type": "execute_result"
    },
    {
     "data": {
      "image/png": "[encoded data removed]",
      "text/plain": [
       "<Figure size 432x288 with 1 Axes>"
      ]
     },
     "metadata": {
      "needs_background": "light"
     },
     "output_type": "display_data"
    }
   ],
   "source": [
    "sns.scatterplot(principalDf[0], principalDf[2], hue = labels['hist_tags'], legend = False)"
   ]
  },
  {
   "cell_type": "code",
   "execution_count": 160,
   "id": "5b2d6b5d",
   "metadata": {},
   "outputs": [
    {
     "data": {
      "text/plain": [
       "array(['Squamous Cell Carcinoma', 'Adenocarcinoma', 'Non-Small Cell',\n",
       "       'other'], dtype=object)"
      ]
     },
     "execution_count": 160,
     "metadata": {},
     "output_type": "execute_result"
    }
   ],
   "source": [
    "# no clear separation seen for 2 principle components so lets try clustering for all the ones needed to capture 85%\n",
    "# try k-means clustering\n",
    "# hierarchical clustering\n",
    "labels.hist_tags.unique()"
   ]
  },
  {
   "cell_type": "code",
   "execution_count": 130,
   "id": "35ffe5e7",
   "metadata": {},
   "outputs": [
    {
     "name": "stdout",
     "output_type": "stream",
     "text": [
      "[2 0 2 3 0 0 1 3 3 0 1 2 3 2 3 0 0 0 0 2 2 0 0 3 0 3 2 0 3 0 0 3 0 0 3 0 2\n",
      " 2 3 3 3 3 3 0 2 0 2 0 2 2 0 0 3 2 0 0 2 2 0 0 2 3 2 2 2 3 0 2 0 3 0 3 2 3\n",
      " 3 2 2 2 0 3 3 3 3 0 3 0 2 3 0]\n",
      "['Squamous Cell Carcinoma' 'Adenocarcinoma' 'Non-Small Cell'\n",
      " 'Adenocarcinoma' 'Squamous Cell Carcinoma' 'Adenocarcinoma'\n",
      " 'Squamous Cell Carcinoma' 'Adenocarcinoma' 'other' 'other'\n",
      " 'Squamous Cell Carcinoma' 'Squamous Cell Carcinoma' 'Adenocarcinoma'\n",
      " 'Squamous Cell Carcinoma' 'Adenocarcinoma' 'Squamous Cell Carcinoma'\n",
      " 'Adenocarcinoma' 'Adenocarcinoma' 'Non-Small Cell'\n",
      " 'Squamous Cell Carcinoma' 'Squamous Cell Carcinoma' 'Adenocarcinoma'\n",
      " 'Non-Small Cell' 'Adenocarcinoma' 'Adenocarcinoma' 'Adenocarcinoma'\n",
      " 'Squamous Cell Carcinoma' 'Squamous Cell Carcinoma' 'Adenocarcinoma'\n",
      " 'Squamous Cell Carcinoma' 'Adenocarcinoma' 'Squamous Cell Carcinoma'\n",
      " 'Adenocarcinoma' 'Squamous Cell Carcinoma' 'Adenocarcinoma'\n",
      " 'Adenocarcinoma' 'Squamous Cell Carcinoma' 'Squamous Cell Carcinoma'\n",
      " 'Adenocarcinoma' 'Adenocarcinoma' 'Adenocarcinoma' 'Adenocarcinoma'\n",
      " 'Adenocarcinoma' 'Adenocarcinoma' 'Non-Small Cell' 'Adenocarcinoma'\n",
      " 'Squamous Cell Carcinoma' 'Adenocarcinoma' 'Squamous Cell Carcinoma'\n",
      " 'Squamous Cell Carcinoma' 'Adenocarcinoma' 'Adenocarcinoma'\n",
      " 'Squamous Cell Carcinoma' 'Squamous Cell Carcinoma'\n",
      " 'Squamous Cell Carcinoma' 'Adenocarcinoma' 'Squamous Cell Carcinoma'\n",
      " 'Non-Small Cell' 'Non-Small Cell' 'other' 'Squamous Cell Carcinoma'\n",
      " 'Adenocarcinoma' 'Squamous Cell Carcinoma' 'Squamous Cell Carcinoma'\n",
      " 'Squamous Cell Carcinoma' 'Adenocarcinoma' 'Non-Small Cell'\n",
      " 'Squamous Cell Carcinoma' 'Adenocarcinoma' 'Adenocarcinoma'\n",
      " 'Adenocarcinoma' 'Adenocarcinoma' 'Squamous Cell Carcinoma'\n",
      " 'Adenocarcinoma' 'Adenocarcinoma' 'Squamous Cell Carcinoma'\n",
      " 'Squamous Cell Carcinoma' 'Squamous Cell Carcinoma'\n",
      " 'Squamous Cell Carcinoma' 'Adenocarcinoma' 'Adenocarcinoma'\n",
      " 'Adenocarcinoma' 'Adenocarcinoma' 'Adenocarcinoma' 'Adenocarcinoma'\n",
      " 'Squamous Cell Carcinoma' 'Squamous Cell Carcinoma' 'Non-Small Cell'\n",
      " 'Squamous Cell Carcinoma']\n"
     ]
    }
   ],
   "source": [
    "from sklearn.cluster import KMeans\n",
    "kmeans = KMeans(n_clusters=4, random_state=0).fit(principalDf)\n",
    "print(kmeans.labels_)\n",
    "print(labels.hist_tags.values)"
   ]
  },
  {
   "cell_type": "code",
   "execution_count": 131,
   "id": "8138c971",
   "metadata": {},
   "outputs": [
    {
     "name": "stdout",
     "output_type": "stream",
     "text": [
      "Adjusted clustering score kmeans on PCs to cover 85% of variance for regrouped labels: 0.280\n"
     ]
    }
   ],
   "source": [
    "from sklearn import metrics\n",
    "k_means_ev = metrics.adjusted_rand_score(kmeans.labels_, labels.hist_tags.values)\n",
    "\n",
    "print('Adjusted clustering score kmeans on PCs to cover 85% of variance for regrouped labels: {:0.3f}'.format(k_means_ev))"
   ]
  },
  {
   "cell_type": "markdown",
   "id": "ee7353f0",
   "metadata": {},
   "source": [
    "The adjusted clustering score is 0.280, which is pretty low. It should be close to 1. Retry with all the labels (17) from the original annotation"
   ]
  },
  {
   "cell_type": "code",
   "execution_count": 132,
   "id": "de7d4a05",
   "metadata": {},
   "outputs": [
    {
     "name": "stdout",
     "output_type": "stream",
     "text": [
      "[14  7 14  5 14  0 15  8  0  0  3 14  1 14  0  0  1  0 12 14 14 12  4  5\n",
      "  7  0 14  0  0 12  7  8 13  0  1  0 14 14  8  8  8  1  8 12 14  0 14 12\n",
      " 14 14 12 11  8 14 14 10 14 14  0 16 14  0 14 14  2  8  0  2 12  5  7 14\n",
      " 14  5 13  2  2  0  0  5  9  8  5  7  0  0  6  8  0]\n",
      "Adjusted clustering score kmeans on PCs to cover 85% of variance for original labels: 0.110\n"
     ]
    }
   ],
   "source": [
    "kmeans = KMeans(n_clusters=len(labels['characteristics.tag.histology'].unique()), random_state=0).fit(principalDf)\n",
    "print(kmeans.labels_)\n",
    "k_means_ev_original_labels = metrics.adjusted_rand_score(kmeans.labels_, labels.hist_tags.values)\n",
    "\n",
    "print('Adjusted clustering score kmeans on PCs to cover 85% of variance for original labels: {:0.3f}'.format(k_means_ev_original_labels))"
   ]
  },
  {
   "cell_type": "markdown",
   "id": "1eac9927",
   "metadata": {},
   "source": [
    "Even lower score is achieved. This might point to, that there is overlap and similar patterns for the subhistology types which makes separation of all subtypes impossible with this technique and the amount of samples per class."
   ]
  },
  {
   "cell_type": "code",
   "execution_count": 114,
   "id": "d157ba24",
   "metadata": {},
   "outputs": [
    {
     "name": "stdout",
     "output_type": "stream",
     "text": [
      "hist_tags\n",
      "Adenocarcinoma             42\n",
      "Non-Small Cell              8\n",
      "Squamous Cell Carcinoma    36\n",
      "other                       3\n",
      "Name: hist_tags, dtype: int64\n",
      "characteristics.tag.histology\n",
      "Adenocarcinoma With Mucinous Features                                    1\n",
      "Adenocarcinoma With Papillary Features                                   2\n",
      "Adenocarcinoma, Acinar Type                                              3\n",
      "Adenocarcinoma, Bronchiolo-alveolar Features                             4\n",
      "Adenocarcinoma, Mixed                                                    1\n",
      "Adenocarcinoma, Mucinous With Bronchiolo-alveolar Features               1\n",
      "Adenocarcinoma, NOS                                                     25\n",
      "Adenocarcinoma, Papillary, NOS                                           4\n",
      "Carcinoma, Large Cell, Neuroendocrine                                    1\n",
      "Non-Small Cell                                                           7\n",
      "Non-Small Cell, Pleomorphic Type                                         1\n",
      "Papillary Type AND      Adenocarcinoma, Bronchiolo-alveolar Features     1\n",
      "Solid Type And Acinar                                                    2\n",
      "Squamous Cell Carcinoma, NOS                                            33\n",
      "Squamous Cell Carcinoma, Other (Specify) with adeno features             1\n",
      "Squamous Cell Carcinoma, Other (Specify)endobronchial                    1\n",
      "Squamous Cell Carcinoma, Papillary                                       1\n",
      "Name: characteristics.tag.histology, dtype: int64\n"
     ]
    }
   ],
   "source": [
    "print(labels.groupby('hist_tags')['hist_tags'].count())\n",
    "print(labels.groupby('characteristics.tag.histology')['characteristics.tag.histology'].count())"
   ]
  },
  {
   "cell_type": "markdown",
   "id": "4fddbcdf",
   "metadata": {},
   "source": [
    "The expected clusters would vary a lot in size, which might lead to non spheric shapes, which can lead to poor performance of the k-means clustering. Other clustering techniques to try could be hierarchical clustering, DBSCAN, spectral clustering. DBSCAN is probably not optimal choice, since it is based on density, which is way more unlikely to achieve for the smaller groups than the bigger groups, which makes them likely to be marked as outliers rather than clusters. Spectral clustering is tried later on the not dimensionality reduced data. Hierachical clustering is performed on the PCA data in the following:"
   ]
  },
  {
   "cell_type": "code",
   "execution_count": 133,
   "id": "012b1648",
   "metadata": {},
   "outputs": [],
   "source": [
    "from sklearn.cluster import AgglomerativeClustering\n",
    "HAC = AgglomerativeClustering(n_clusters = 4,\n",
    "                              affinity ='euclidean',\n",
    "                              compute_full_tree = True, \n",
    "                             linkage = 'ward',\n",
    "                             connectivity = None)"
   ]
  },
  {
   "cell_type": "code",
   "execution_count": 134,
   "id": "5ce02dde",
   "metadata": {},
   "outputs": [],
   "source": [
    "# HAC on original\n",
    "HAC.fit(X)\n",
    "y_pred_original_HAC = HAC.labels_.astype(int)"
   ]
  },
  {
   "cell_type": "code",
   "execution_count": 137,
   "id": "5e383ffb",
   "metadata": {},
   "outputs": [],
   "source": [
    "# HAC on PCA\n",
    "HAC.fit(principalDf)\n",
    "y_pred_PCA_HAC = HAC.labels_.astype(int)"
   ]
  },
  {
   "cell_type": "code",
   "execution_count": 138,
   "id": "f5353847",
   "metadata": {},
   "outputs": [
    {
     "name": "stdout",
     "output_type": "stream",
     "text": [
      "Adjusted rand index for original data: 0.399, adjusted rand index pca reduced data 0.413\n"
     ]
    }
   ],
   "source": [
    "ARI_HCA_Ori = metrics.adjusted_rand_score(y_pred_original_HAC, labels.hist_tags)\n",
    "ARI_HCA_PCA = metrics.adjusted_rand_score(y_pred_PCA_HAC, labels.hist_tags)\n",
    "\n",
    "print('Adjusted rand index for original data: {:0.3f}, adjusted rand index pca reduced data {:0.3f}'.format(ARI_HCA_Ori, ARI_HCA_PCA))"
   ]
  },
  {
   "cell_type": "markdown",
   "id": "eea49801",
   "metadata": {},
   "source": [
    "Based on the outcome, PCA might not be the best approach of reducing the dimensionality of the gene expression data."
   ]
  },
  {
   "cell_type": "markdown",
   "id": "60d2c754",
   "metadata": {},
   "source": [
    "Try multidimensional scaling, which is not based on variances but on distances."
   ]
  },
  {
   "cell_type": "code",
   "execution_count": 142,
   "id": "1e248ab7",
   "metadata": {},
   "outputs": [
    {
     "data": {
      "text/plain": [
       "(89,)"
      ]
     },
     "execution_count": 142,
     "metadata": {},
     "output_type": "execute_result"
    }
   ],
   "source": [
    "MDS_reduction = MDS(n_components=10, metric=True, n_init=4, max_iter=300, verbose=0, eps=0.001, n_jobs=None, random_state=42,\n",
    "dissimilarity='euclidean')\n",
    "\n",
    "MDS_reduction\n",
    "\n",
    "### Step 2 - Fit the data and transform it, so we have 2 dimensions instead of 3\n",
    "X_mds = MDS_reduction.fit_transform(X)\n",
    "X_mds.shape\n",
    "X_mds[:,:1].ravel().shape"
   ]
  },
  {
   "cell_type": "code",
   "execution_count": 143,
   "id": "6d989ee4",
   "metadata": {},
   "outputs": [
    {
     "name": "stderr",
     "output_type": "stream",
     "text": [
      "C:\\Users\\chiar\\anaconda3\\lib\\site-packages\\seaborn\\_decorators.py:36: FutureWarning: Pass the following variables as keyword args: x, y. From version 0.12, the only valid positional argument will be `data`, and passing other arguments without an explicit keyword will result in an error or misinterpretation.\n",
      "  warnings.warn(\n"
     ]
    },
    {
     "data": {
      "text/plain": [
       "<AxesSubplot:>"
      ]
     },
     "execution_count": 143,
     "metadata": {},
     "output_type": "execute_result"
    },
    {
     "data": {
      "image/png": "[encoded data removed]",
      "text/plain": [
       "<Figure size 432x288 with 1 Axes>"
      ]
     },
     "metadata": {
      "needs_background": "light"
     },
     "output_type": "display_data"
    }
   ],
   "source": [
    "sns.scatterplot(X_mds[:,:1].ravel(), X_mds[:,1:2].ravel(), hue = labels['characteristics.tag.histology'], legend = False)"
   ]
  },
  {
   "cell_type": "code",
   "execution_count": 144,
   "id": "a6b8c3d6",
   "metadata": {},
   "outputs": [
    {
     "name": "stderr",
     "output_type": "stream",
     "text": [
      "C:\\Users\\chiar\\anaconda3\\lib\\site-packages\\seaborn\\_decorators.py:36: FutureWarning: Pass the following variables as keyword args: x, y. From version 0.12, the only valid positional argument will be `data`, and passing other arguments without an explicit keyword will result in an error or misinterpretation.\n",
      "  warnings.warn(\n"
     ]
    },
    {
     "data": {
      "text/plain": [
       "<AxesSubplot:>"
      ]
     },
     "execution_count": 144,
     "metadata": {},
     "output_type": "execute_result"
    },
    {
     "data": {
      "image/png": "[encoded data removed]",
      "text/plain": [
       "<Figure size 432x288 with 1 Axes>"
      ]
     },
     "metadata": {
      "needs_background": "light"
     },
     "output_type": "display_data"
    }
   ],
   "source": [
    "sns.scatterplot(X_mds[:,:1].ravel(), X_mds[:,1:2].ravel(), hue = labels['hist_tags'], legend = False)"
   ]
  },
  {
   "cell_type": "code",
   "execution_count": 145,
   "id": "f11c85a1",
   "metadata": {},
   "outputs": [
    {
     "name": "stderr",
     "output_type": "stream",
     "text": [
      "C:\\Users\\chiar\\anaconda3\\lib\\site-packages\\seaborn\\_decorators.py:36: FutureWarning: Pass the following variables as keyword args: x, y. From version 0.12, the only valid positional argument will be `data`, and passing other arguments without an explicit keyword will result in an error or misinterpretation.\n",
      "  warnings.warn(\n"
     ]
    },
    {
     "data": {
      "text/plain": [
       "<AxesSubplot:>"
      ]
     },
     "execution_count": 145,
     "metadata": {},
     "output_type": "execute_result"
    },
    {
     "data": {
      "image/png": "[encoded data removed]",
      "text/plain": [
       "<Figure size 432x288 with 1 Axes>"
      ]
     },
     "metadata": {
      "needs_background": "light"
     },
     "output_type": "display_data"
    }
   ],
   "source": [
    "sns.scatterplot(X_mds[:,1:2].ravel(), X_mds[:,2:3].ravel(), hue = labels['hist_tags'], legend = False)"
   ]
  },
  {
   "cell_type": "code",
   "execution_count": 146,
   "id": "8d19e39d",
   "metadata": {},
   "outputs": [
    {
     "name": "stderr",
     "output_type": "stream",
     "text": [
      "C:\\Users\\chiar\\anaconda3\\lib\\site-packages\\seaborn\\_decorators.py:36: FutureWarning: Pass the following variables as keyword args: x, y. From version 0.12, the only valid positional argument will be `data`, and passing other arguments without an explicit keyword will result in an error or misinterpretation.\n",
      "  warnings.warn(\n"
     ]
    },
    {
     "data": {
      "text/plain": [
       "<AxesSubplot:>"
      ]
     },
     "execution_count": 146,
     "metadata": {},
     "output_type": "execute_result"
    },
    {
     "data": {
      "image/png": "[encoded data removed]",
      "text/plain": [
       "<Figure size 432x288 with 1 Axes>"
      ]
     },
     "metadata": {
      "needs_background": "light"
     },
     "output_type": "display_data"
    }
   ],
   "source": [
    "sns.scatterplot(X_mds[:,:1].ravel(), X_mds[:,2:3].ravel(), hue = labels['hist_tags'], legend = False)"
   ]
  },
  {
   "cell_type": "code",
   "execution_count": 148,
   "id": "98c23ad0",
   "metadata": {},
   "outputs": [
    {
     "name": "stdout",
     "output_type": "stream",
     "text": [
      "[2 3 2 3 2 0 2 0 0 0 1 2 3 2 3 0 0 0 1 2 2 1 1 0 3 0 2 0 0 1 3 0 3 0 3 0 2\n",
      " 2 0 0 0 3 0 1 2 0 2 1 2 2 1 1 0 2 2 1 2 2 2 1 2 3 2 2 2 0 2 2 1 0 3 1 2 0\n",
      " 3 2 2 2 0 0 1 0 3 3 0 0 2 0 0]\n"
     ]
    }
   ],
   "source": [
    "#kMeans on MDS output\n",
    "kmeans_MDS = KMeans(n_clusters=4, random_state=0).fit(X_mds)\n",
    "print(kmeans_MDS.labels_)"
   ]
  },
  {
   "cell_type": "code",
   "execution_count": 149,
   "id": "76217434",
   "metadata": {},
   "outputs": [
    {
     "name": "stdout",
     "output_type": "stream",
     "text": [
      "Adjusted clustering score kmeans on MDS reduced data for regrouped labels: 0.276\n"
     ]
    }
   ],
   "source": [
    "k_means_MDS_ev = metrics.adjusted_rand_score(kmeans_MDS.labels_, labels.hist_tags.values)\n",
    "\n",
    "print('Adjusted clustering score kmeans on MDS reduced data for regrouped labels: {:0.3f}'.format(k_means_MDS_ev))"
   ]
  },
  {
   "cell_type": "code",
   "execution_count": 150,
   "id": "82b562f3",
   "metadata": {},
   "outputs": [],
   "source": [
    "# hierarchical clustering\n",
    "HAC.fit(X_mds)\n",
    "y_pred_MDS_HAC = HAC.labels_.astype(int)"
   ]
  },
  {
   "cell_type": "code",
   "execution_count": 152,
   "id": "d25fed98",
   "metadata": {},
   "outputs": [
    {
     "name": "stdout",
     "output_type": "stream",
     "text": [
      "Adjusted clustering score kmeans on MDS reduced data for regrouped labels: 0.277\n"
     ]
    }
   ],
   "source": [
    "HAC_MDS_ev = metrics.adjusted_rand_score(y_pred_MDS_HAC, labels.hist_tags.values)\n",
    "\n",
    "print('Adjusted clustering score kmeans on MDS reduced data for regrouped labels: {:0.3f}'.format(HAC_MDS_ev))"
   ]
  },
  {
   "cell_type": "markdown",
   "id": "7870bb66",
   "metadata": {},
   "source": [
    "That was not too flattering so far. Lets try spectral embedding"
   ]
  },
  {
   "cell_type": "code",
   "execution_count": 167,
   "id": "2f104ddd",
   "metadata": {},
   "outputs": [
    {
     "data": {
      "image/png": "[encoded data removed]",
      "text/plain": [
       "<Figure size 720x720 with 1 Axes>"
      ]
     },
     "metadata": {
      "needs_background": "light"
     },
     "output_type": "display_data"
    }
   ],
   "source": [
    "from sklearn.manifold import SpectralEmbedding\n",
    "spec_emb = SpectralEmbedding(n_components = 2, n_neighbors = 50)\n",
    "se = spec_emb.fit_transform(X)\n",
    "se\n",
    "plt.figure(figsize=(10,10))\n",
    "plt.scatter(se[:, 0], se[:, 1], c = labels.hist_tags.map({'Squamous Cell Carcinoma':1, 'Adenocarcinoma':2, 'Non-Small Cell':3, 'other':4}), cmap = 'tab10', s = 50)\n",
    "plt.title('Laplacian Eigenmap', fontsize = 20)\n",
    "plt.xlabel(\"LAP1\", fontsize = 20)\n",
    "plt.ylabel(\"LAP2\", fontsize = 20)\n",
    "plt.show()"
   ]
  },
  {
   "cell_type": "code",
   "execution_count": 170,
   "id": "fe4f3662",
   "metadata": {},
   "outputs": [
    {
     "name": "stdout",
     "output_type": "stream",
     "text": [
      "[3 2 3 0 2 2 1 2 2 1 1 3 0 2 0 2 2 0 1 2 2 1 1 0 2 2 2 2 2 2 0 2 0 2 2 2 3\n",
      " 3 2 2 2 0 2 1 3 2 2 1 2 3 2 1 0 2 2 1 3 3 1 1 2 0 2 3 3 2 2 3 2 0 0 2 3 0\n",
      " 0 3 3 3 2 0 2 0 0 2 2 2 3 2 1]\n"
     ]
    }
   ],
   "source": [
    "# clustering on this embedding\n",
    "kmeans_spec = KMeans(n_clusters=4, random_state=0).fit(se)\n",
    "print(kmeans_spec.labels_)"
   ]
  },
  {
   "cell_type": "code",
   "execution_count": 171,
   "id": "a1d70dbe",
   "metadata": {},
   "outputs": [
    {
     "name": "stdout",
     "output_type": "stream",
     "text": [
      "Adjusted clustering score kmeans on spectral embedding reduced data for regrouped labels: 0.139\n"
     ]
    }
   ],
   "source": [
    "k_means_spec_ev = metrics.adjusted_rand_score(kmeans_spec.labels_, labels.hist_tags.values)\n",
    "\n",
    "print('Adjusted clustering score kmeans on spectral embedding reduced data for regrouped labels: {:0.3f}'.format(k_means_spec_ev))"
   ]
  },
  {
   "cell_type": "code",
   "execution_count": 183,
   "id": "e2ba086a",
   "metadata": {},
   "outputs": [
    {
     "data": {
      "image/png": "[encoded data removed]",
      "text/plain": [
       "<Figure size 1440x504 with 1 Axes>"
      ]
     },
     "metadata": {
      "needs_background": "light"
     },
     "output_type": "display_data"
    }
   ],
   "source": [
    "from scipy.cluster import hierarchy\n",
    "Original = hierarchy.linkage(X, method = 'ward')\n",
    "plt.figure(figsize= (20, 7))\n",
    "# Make the dendrogram\n",
    "den = hierarchy.dendrogram(Original, \n",
    "                           truncate_mode = None,\n",
    "                           labels = labels.hist_tags.values\n",
    "                          )\n",
    "plt.show()"
   ]
  },
  {
   "cell_type": "code",
   "execution_count": 179,
   "id": "de1b8bcb",
   "metadata": {},
   "outputs": [
    {
     "name": "stdout",
     "output_type": "stream",
     "text": [
      "[0 1 3 3 3 2 3 0 0 0 0 1 2 0 2 3 0 1 1 3 3 1 0 0 2 3 1 2 2 1 0 3 1 2 2 0 0\n",
      " 1 0 2 2 2 3 0 2 2 2 2 1 3 1 2 0 2 3 1 2 0 2 2 1 2 2 3 3 1 3 0 3 0 0 0 2 3\n",
      " 2 3 3 3 1 1 1 1 2 1 1 0 3 0 3]\n"
     ]
    },
    {
     "name": "stderr",
     "output_type": "stream",
     "text": [
      "C:\\Users\\chiar\\anaconda3\\lib\\site-packages\\sklearn\\manifold\\_spectral_embedding.py:260: UserWarning: Graph is not fully connected, spectral embedding may not work as expected.\n",
      "  warnings.warn(\n"
     ]
    }
   ],
   "source": [
    "#spectral graph partitoning\n",
    "spec_clustering = SpectralClustering(n_clusters=4,\n",
    "         assign_labels='discretize',\n",
    "         random_state=0).fit(X)\n",
    "\n",
    "print(spec_clustering.labels_)"
   ]
  },
  {
   "cell_type": "code",
   "execution_count": 177,
   "id": "1b60e93d",
   "metadata": {},
   "outputs": [
    {
     "name": "stdout",
     "output_type": "stream",
     "text": [
      "Adjusted clustering score kmeans on spectral clustering for regrouped labels: -0.004\n"
     ]
    }
   ],
   "source": [
    "spec_ev = metrics.adjusted_rand_score(spec_clustering.labels_, labels.hist_tags.values)\n",
    "\n",
    "print('Adjusted clustering score kmeans on spectral clustering for regrouped labels: {:0.3f}'.format(spec_ev))"
   ]
  },
  {
   "cell_type": "code",
   "execution_count": 178,
   "id": "59b659a6",
   "metadata": {},
   "outputs": [
    {
     "data": {
      "text/plain": [
       "<matplotlib.collections.PathCollection at 0x2289c211880>"
      ]
     },
     "execution_count": 178,
     "metadata": {},
     "output_type": "execute_result"
    },
    {
     "data": {
      "image/png": "[encoded data removed]",
      "text/plain": [
       "<Figure size 432x288 with 1 Axes>"
      ]
     },
     "metadata": {
      "needs_background": "light"
     },
     "output_type": "display_data"
    }
   ],
   "source": [
    "plt.scatter(X[:,0], X[:,1], c=spec_clustering.labels_)"
   ]
  },
  {
   "cell_type": "code",
   "execution_count": 184,
   "id": "d9252923",
   "metadata": {},
   "outputs": [
    {
     "data": {
      "text/plain": [
       "(89, 2)"
      ]
     },
     "execution_count": 184,
     "metadata": {},
     "output_type": "execute_result"
    }
   ],
   "source": [
    "# tSNE\n",
    "from sklearn.manifold import TSNE\n",
    "X_embedded = TSNE(n_components=2, learning_rate='auto',\n",
    "                   init='random', random_state = 42)\n",
    "#fit \n",
    "X_embedded = X_embedded.fit_transform(X)\n",
    "# produced an two dimension array with x,y features for every row, since n_components = 2\n",
    "X_embedded.shape"
   ]
  },
  {
   "cell_type": "code",
   "execution_count": 190,
   "id": "4a3eb527",
   "metadata": {},
   "outputs": [],
   "source": [
    "def plot_cluster(X, df):\n",
    "    #add x, y features to the original df\n",
    "    df['x'] = X[:,0]\n",
    "    df['y'] = X[:,1]\n",
    "    sns.scatterplot(x = 'x', y = 'y', hue = labels.hist_tags, data = df, alpha = 0.5, palette=['red','blue', 'green','pink'])\n",
    "    plt.legend(bbox_to_anchor=(1.05, 1), loc='upper left', borderaxespad=0)\n",
    "    plt.show()"
   ]
  },
  {
   "cell_type": "code",
   "execution_count": 191,
   "id": "47c6b866",
   "metadata": {},
   "outputs": [
    {
     "data": {
      "image/png": "[encoded data removed]",
      "text/plain": [
       "<Figure size 432x288 with 1 Axes>"
      ]
     },
     "metadata": {
      "needs_background": "light"
     },
     "output_type": "display_data"
    }
   ],
   "source": [
    "plot_cluster(X_embedded, data)"
   ]
  },
  {
   "cell_type": "code",
   "execution_count": 204,
   "id": "641730a3",
   "metadata": {},
   "outputs": [
    {
     "data": {
      "text/plain": [
       "<matplotlib.collections.PathCollection at 0x228a567c7c0>"
      ]
     },
     "execution_count": 204,
     "metadata": {},
     "output_type": "execute_result"
    },
    {
     "data": {
      "image/png": "[encoded data removed]",
      "text/plain": [
       "<Figure size 432x288 with 1 Axes>"
      ]
     },
     "metadata": {
      "needs_background": "light"
     },
     "output_type": "display_data"
    }
   ],
   "source": [
    "kmeans = KMeans(n_clusters=4, random_state=0, init = 'k-means++')\n",
    "kTNSE = kmeans.fit_predict(X_embedded)\n",
    "\n",
    "plt.scatter(x= X_embedded[:,0], y=X_embedded[:,1], c=kTNSE, cmap='Accent')"
   ]
  },
  {
   "cell_type": "code",
   "execution_count": 206,
   "id": "94286206",
   "metadata": {},
   "outputs": [
    {
     "name": "stdout",
     "output_type": "stream",
     "text": [
      "Adjusted clustering score kmeans on tSNE for regrouped labels: 0.291\n"
     ]
    }
   ],
   "source": [
    "tsne_ev = metrics.adjusted_rand_score(kTNSE, labels.hist_tags.values)\n",
    "\n",
    "print('Adjusted clustering score kmeans on tSNE for regrouped labels: {:0.3f}'.format(tsne_ev))"
   ]
  }
 ],
 "metadata": {
  "kernelspec": {
   "display_name": "machine_learning_env",
   "language": "python",
   "name": "machine_learning_env"
  },
  "language_info": {
   "codemirror_mode": {
    "name": "ipython",
    "version": 3
   },
   "file_extension": ".py",
   "mimetype": "text/x-python",
   "name": "python",
   "nbconvert_exporter": "python",
   "pygments_lexer": "ipython3",
   "version": "3.9.12"
  }
 },
 "nbformat": 4,
 "nbformat_minor": 5
}
